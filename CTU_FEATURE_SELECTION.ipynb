{
 "cells": [
  {
   "cell_type": "code",
   "execution_count": 1,
   "metadata": {},
   "outputs": [],
   "source": [
    "import os\n",
    "import pandas as pd\n",
    "import matplotlib.pyplot as plt\n",
    "import seaborn as sns\n",
    "from sklearn.model_selection import train_test_split\n",
    "from sklearn.preprocessing import LabelEncoder\n",
    "from sklearn.neural_network import MLPClassifier\n",
    "from sklearn.linear_model import LogisticRegression, SGDClassifier\n",
    "from sklearn.ensemble import AdaBoostClassifier, GradientBoostingClassifier, RandomForestClassifier\n",
    "from sklearn.svm import SVC\n",
    "import plotly.express as px\n",
    "from sklearn.metrics import classification_report, accuracy_score\n",
    "from sklearn.preprocessing import StandardScaler\n",
    "import tensorflow as tf\n",
    "from tensorflow.keras.models import Sequential\n",
    "import numpy as np\n",
    "from tensorflow.keras.layers import Conv1D, MaxPooling1D, LSTM, Dropout, Dense\n",
    "from imblearn.over_sampling import SMOTE\n",
    "import time\n",
    "from sklearn.metrics import log_loss\n",
    "from sklearn.metrics import accuracy_score, log_loss, mean_squared_error, classification_report\n",
    "from sklearn.datasets import make_classification\n",
    "from sklearn.metrics import confusion_matrix, ConfusionMatrixDisplay"
   ]
  },
  {
   "cell_type": "code",
   "execution_count": 2,
   "metadata": {},
   "outputs": [
    {
     "name": "stdout",
     "output_type": "stream",
     "text": [
      "             ts                 uid        id.orig_h id.orig_p        id.resp_h id.resp_p proto service  duration orig_bytes resp_bytes conn_state local_orig local_resp missed_bytes history orig_pkts orig_ip_bytes resp_pkts resp_ip_bytes  label\n",
      "0  1.525880e+09  CUmrqr4svHuSXJy5z7  192.168.100.103     51524   65.127.233.163        23   tcp       -  2.999051          0          0         S0          -          -            0       S         3           180         0             0      1\n",
      "1  1.525880e+09  CH98aB3s1kJeq6SFOc  192.168.100.103     56305    63.150.16.171        23   tcp       -         -          -          -         S0          -          -            0       S         1            60         0             0      1\n",
      "2  1.525880e+09   C3GBTkINvXNjVGtN5  192.168.100.103     41101     111.40.23.49        23   tcp       -         -          -          -         S0          -          -            0       S         1            60         0             0      1\n",
      "3  1.525880e+09   CDe43c1PtgynajGI6  192.168.100.103     60905  131.174.215.147        23   tcp       -  2.998796          0          0         S0          -          -            0       S         3           180         0             0      1\n",
      "4  1.525880e+09  CJaDcG3MZzvf1YVYI4  192.168.100.103     44301      91.42.47.63        23   tcp       -         -          -          -         S0          -          -            0       S         1            60         0             0      1\n"
     ]
    },
    {
     "name": "stderr",
     "output_type": "stream",
     "text": [
      "C:\\Users\\pc\\AppData\\Local\\Temp\\ipykernel_19996\\1692962267.py:17: FutureWarning: The behavior of DataFrame concatenation with empty or all-NA entries is deprecated. In a future version, this will no longer exclude empty or all-NA columns when determining the result dtypes. To retain the old behavior, exclude the relevant entries before the concat operation.\n",
      "  df = pd.concat(dataframes, ignore_index=True)\n"
     ]
    }
   ],
   "source": [
    "dataframes = []\n",
    "folders = ['ctu-1-1', 'ctu-3-1', 'ctu-4-1', 'ctu-5-1', 'ctu-8-1'] \n",
    "\n",
    "for folder in folders:\n",
    "    attack_path = os.path.join(folder, 'attack_data.csv')\n",
    "    benign_path = os.path.join(folder, 'benign_data.csv')\n",
    "    \n",
    "    attack_data = pd.read_csv(attack_path)\n",
    "    benign_data = pd.read_csv(benign_path)\n",
    "    \n",
    "    attack_data['label'] = 1\n",
    "    benign_data['label'] = 0\n",
    "    \n",
    "    dataframes.append(attack_data)\n",
    "    dataframes.append(benign_data)\n",
    "\n",
    "df = pd.concat(dataframes, ignore_index=True)\n",
    "pd.set_option('display.max_columns', None) \n",
    "pd.set_option('display.width', 1000)\n",
    "\n",
    "print(df.head())"
   ]
  },
  {
   "cell_type": "code",
   "execution_count": 3,
   "metadata": {},
   "outputs": [
    {
     "name": "stdout",
     "output_type": "stream",
     "text": [
      "<class 'pandas.core.frame.DataFrame'>\n",
      "RangeIndex: 1177080 entries, 0 to 1177079\n",
      "Data columns (total 21 columns):\n",
      " #   Column         Non-Null Count    Dtype  \n",
      "---  ------         --------------    -----  \n",
      " 0   ts             1177080 non-null  float64\n",
      " 1   uid            1177080 non-null  object \n",
      " 2   id.orig_h      1177080 non-null  object \n",
      " 3   id.orig_p      1177080 non-null  object \n",
      " 4   id.resp_h      1177080 non-null  object \n",
      " 5   id.resp_p      1177080 non-null  object \n",
      " 6   proto          1177080 non-null  object \n",
      " 7   service        1177080 non-null  object \n",
      " 8   duration       1177080 non-null  object \n",
      " 9   orig_bytes     1177080 non-null  object \n",
      " 10  resp_bytes     1177080 non-null  object \n",
      " 11  conn_state     1177080 non-null  object \n",
      " 12  local_orig     1177080 non-null  object \n",
      " 13  local_resp     1177080 non-null  object \n",
      " 14  missed_bytes   1177080 non-null  object \n",
      " 15  history        1177080 non-null  object \n",
      " 16  orig_pkts      1177080 non-null  object \n",
      " 17  orig_ip_bytes  1177080 non-null  object \n",
      " 18  resp_pkts      1177080 non-null  object \n",
      " 19  resp_ip_bytes  1177080 non-null  object \n",
      " 20  label          1177080 non-null  int64  \n",
      "dtypes: float64(1), int64(1), object(19)\n",
      "memory usage: 188.6+ MB\n"
     ]
    }
   ],
   "source": [
    "df.info()"
   ]
  },
  {
   "cell_type": "code",
   "execution_count": 4,
   "metadata": {},
   "outputs": [
    {
     "name": "stderr",
     "output_type": "stream",
     "text": [
      "C:\\Users\\pc\\AppData\\Local\\Temp\\ipykernel_19512\\79354503.py:11: FutureWarning: The behavior of DataFrame concatenation with empty or all-NA entries is deprecated. In a future version, this will no longer exclude empty or all-NA columns when determining the result dtypes. To retain the old behavior, exclude the relevant entries before the concat operation.\n",
      "  combined_df = pd.concat([attack_df, benign_df], ignore_index=True)\n",
      "C:\\Users\\pc\\AppData\\Local\\Temp\\ipykernel_19512\\79354503.py:11: FutureWarning: The behavior of DataFrame concatenation with empty or all-NA entries is deprecated. In a future version, this will no longer exclude empty or all-NA columns when determining the result dtypes. To retain the old behavior, exclude the relevant entries before the concat operation.\n",
      "  combined_df = pd.concat([attack_df, benign_df], ignore_index=True)\n"
     ]
    },
    {
     "data": {
      "image/png": "[encoded data removed]",
      "text/plain": [
       "<Figure size 1200x600 with 1 Axes>"
      ]
     },
     "metadata": {},
     "output_type": "display_data"
    }
   ],
   "source": [
    "folders = ['ctu-1-1', 'ctu-3-1', 'ctu-4-1', 'ctu-5-1', 'ctu-8-1']\n",
    "label_counts = {} \n",
    "\n",
    "for folder in folders:\n",
    "    attack_file = f\"{folder}/attack_data.csv\"\n",
    "    benign_file = f\"{folder}/benign_data.csv\"\n",
    "\n",
    "    attack_df = pd.read_csv(attack_file)\n",
    "    benign_df = pd.read_csv(benign_file)\n",
    "\n",
    "    combined_df = pd.concat([attack_df, benign_df], ignore_index=True)\n",
    "\n",
    "    labels_in_file = combined_df['label'].value_counts()\n",
    "\n",
    "    for label, count in labels_in_file.items():\n",
    "        if label in label_counts:\n",
    "            label_counts[label] += count\n",
    "        else:\n",
    "            label_counts[label] = count\n",
    "\n",
    "cleaned_label_counts = {}\n",
    "for label, count in label_counts.items():\n",
    "    clean_label = label.replace(\"(empty)   Malicious   \", \"\").replace(\"(empty)   \", \"\").strip()\n",
    "    if \"benign\" in clean_label.lower():\n",
    "        clean_label = \"Benign\"\n",
    "    if clean_label in cleaned_label_counts:\n",
    "        cleaned_label_counts[clean_label] += count\n",
    "    else:\n",
    "        cleaned_label_counts[clean_label] = count\n",
    "\n",
    "label_df = pd.DataFrame(list(cleaned_label_counts.items()), columns=[\"Label\", \"Count\"])\n",
    "\n",
    "colors = plt.cm.tab20.colors[:len(label_df)]\n",
    "\n",
    "plt.figure(figsize=(12, 6))\n",
    "bars = plt.bar(label_df[\"Label\"], label_df[\"Count\"], color=colors)\n",
    "\n",
    "for bar in bars:\n",
    "    height = bar.get_height()\n",
    "    plt.text(\n",
    "        bar.get_x() + bar.get_width() / 2,\n",
    "        height + 0.01 * height,\n",
    "        f'{int(height)}',\n",
    "        ha='center',\n",
    "        va='bottom',\n",
    "        fontsize=10\n",
    "    )\n",
    "\n",
    "plt.xlabel(\"Labels\", fontsize=14)\n",
    "plt.ylabel(\"Count\", fontsize=14)\n",
    "plt.title(\"Label Counts Across All Folders\", fontsize=16)\n",
    "plt.xticks(rotation=45, ha=\"right\", fontsize=12)\n",
    "plt.tight_layout()\n",
    "plt.show()\n"
   ]
  },
  {
   "cell_type": "code",
   "execution_count": 5,
   "metadata": {},
   "outputs": [
    {
     "name": "stderr",
     "output_type": "stream",
     "text": [
      "C:\\Users\\pc\\AppData\\Local\\Temp\\ipykernel_19512\\1352823258.py:13: FutureWarning: The behavior of DataFrame concatenation with empty or all-NA entries is deprecated. In a future version, this will no longer exclude empty or all-NA columns when determining the result dtypes. To retain the old behavior, exclude the relevant entries before the concat operation.\n",
      "  combined_df = pd.concat([attack_df, benign_df], ignore_index=True)\n",
      "C:\\Users\\pc\\AppData\\Local\\Temp\\ipykernel_19512\\1352823258.py:13: FutureWarning: The behavior of DataFrame concatenation with empty or all-NA entries is deprecated. In a future version, this will no longer exclude empty or all-NA columns when determining the result dtypes. To retain the old behavior, exclude the relevant entries before the concat operation.\n",
      "  combined_df = pd.concat([attack_df, benign_df], ignore_index=True)\n"
     ]
    },
    {
     "data": {
      "image/png": "[encoded data removed]",
      "text/plain": [
       "<Figure size 600x600 with 2 Axes>"
      ]
     },
     "metadata": {},
     "output_type": "display_data"
    },
    {
     "data": {
      "image/png": "[encoded data removed]",
      "text/plain": [
       "<Figure size 600x600 with 2 Axes>"
      ]
     },
     "metadata": {},
     "output_type": "display_data"
    },
    {
     "data": {
      "image/png": "[encoded data removed]",
      "text/plain": [
       "<Figure size 600x600 with 2 Axes>"
      ]
     },
     "metadata": {},
     "output_type": "display_data"
    },
    {
     "data": {
      "image/png": "[encoded data removed]",
      "text/plain": [
       "<Figure size 600x600 with 2 Axes>"
      ]
     },
     "metadata": {},
     "output_type": "display_data"
    }
   ],
   "source": [
    "folders = ['ctu-1-1', 'ctu-3-1', 'ctu-4-1', 'ctu-5-1', 'ctu-8-1']\n",
    "\n",
    "first_file_df = None\n",
    "label_counts = {}\n",
    "\n",
    "for folder in folders:\n",
    "    attack_file = f\"{folder}/attack_data.csv\"\n",
    "    benign_file = f\"{folder}/benign_data.csv\"\n",
    "\n",
    "    attack_df = pd.read_csv(attack_file)\n",
    "    benign_df = pd.read_csv(benign_file)\n",
    "\n",
    "    combined_df = pd.concat([attack_df, benign_df], ignore_index=True)\n",
    "\n",
    "    if first_file_df is None:\n",
    "        first_file_df = combined_df\n",
    "\n",
    "    labels_in_file = combined_df['label'].value_counts()\n",
    "\n",
    "    for label, count in labels_in_file.items():\n",
    "        if label in label_counts:\n",
    "            label_counts[label] += count\n",
    "        else:\n",
    "            label_counts[label] = count\n",
    "\n",
    "correlation_matrix = first_file_df.select_dtypes(include=['float64', 'int64']).corr()\n",
    "\n",
    "block_1 = correlation_matrix.iloc[:4, :4]\n",
    "block_2 = correlation_matrix.iloc[:4, 4:]\n",
    "block_3 = correlation_matrix.iloc[4:, :4]\n",
    "block_4 = correlation_matrix.iloc[4:, 4:]\n",
    "\n",
    "def plot_correlation_block(block, title):\n",
    "    plt.figure(figsize=(6, 6))\n",
    "    sns.heatmap(block, annot=True, fmt=\".2f\", cmap=\"coolwarm\", cbar=True)\n",
    "    plt.title(title, fontsize=14)\n",
    "    plt.tight_layout()\n",
    "    plt.show()\n",
    "\n",
    "plot_correlation_block(block_1, \"Top-Left Block (Features 1-4 vs 1-4)\")\n",
    "plot_correlation_block(block_2, \"Top-Right Block (Features 1-4 vs 5-8)\")\n",
    "plot_correlation_block(block_3, \"Bottom-Left Block (Features 5-8 vs 1-4)\")\n",
    "plot_correlation_block(block_4, \"Bottom-Right Block (Features 5-8 vs 5-8)\")"
   ]
  },
  {
   "cell_type": "code",
   "execution_count": 6,
   "metadata": {},
   "outputs": [
    {
     "name": "stderr",
     "output_type": "stream",
     "text": [
      "c:\\Users\\pc\\AppData\\Local\\Programs\\Python\\Python312\\Lib\\site-packages\\sklearn\\ensemble\\_weight_boosting.py:527: FutureWarning: The SAMME.R algorithm (the default) is deprecated and will be removed in 1.6. Use the SAMME algorithm to circumvent this warning.\n",
      "  warnings.warn(\n",
      "c:\\Users\\pc\\AppData\\Local\\Programs\\Python\\Python312\\Lib\\site-packages\\sklearn\\neural_network\\_multilayer_perceptron.py:690: ConvergenceWarning: Stochastic Optimizer: Maximum iterations (300) reached and the optimization hasn't converged yet.\n",
      "  warnings.warn(\n"
     ]
    },
    {
     "data": {
      "image/png": "[encoded data removed]",
      "text/plain": [
       "<Figure size 1000x600 with 1 Axes>"
      ]
     },
     "metadata": {},
     "output_type": "display_data"
    }
   ],
   "source": [
    "X, y = make_classification(n_samples=5000, n_features=20, random_state=42)\n",
    "X_train, X_test, y_train, y_test = train_test_split(X, y, test_size=0.3, random_state=42)\n",
    "\n",
    "models = {\n",
    "    \"SGD (Modified Huber)\": SGDClassifier(loss=\"modified_huber\", random_state=42),\n",
    "    \"SGD (Hinge)\": SGDClassifier(loss=\"hinge\", random_state=42),\n",
    "    \"SGD (Perceptron)\": SGDClassifier(loss=\"perceptron\", random_state=42),\n",
    "    \"SGD (Huber)\": SGDClassifier(loss=\"huber\", epsilon=0.1, random_state=42),\n",
    "    \"Logistic Regression\": LogisticRegression(solver=\"liblinear\", random_state=42),\n",
    "    \"AdaBoost\": AdaBoostClassifier(random_state=42),\n",
    "    \"Random Forest\": RandomForestClassifier(random_state=42),\n",
    "    \"Gradient Boosting\": GradientBoostingClassifier(random_state=42),\n",
    "    \"SVM\": SVC(probability=True, random_state=42),\n",
    "    \"Neural Network (MLP)\": MLPClassifier(hidden_layer_sizes=(128,), max_iter=300, random_state=42)\n",
    "}\n",
    "\n",
    "results = {}\n",
    "\n",
    "for name, model in models.items():\n",
    "    start_time = time.time()\n",
    "    model.fit(X_train, y_train)\n",
    "    training_time = time.time() - start_time\n",
    "    y_pred = model.predict(X_test)\n",
    "    \n",
    "    results[name] = {\n",
    "        \"training_time\": training_time,\n",
    "        \"accuracy\": accuracy_score(y_test, y_pred)\n",
    "    }\n",
    "\n",
    "    if hasattr(model, \"predict_proba\"):\n",
    "        y_pred_proba = model.predict_proba(X_test)[:, 1]\n",
    "    elif hasattr(model, \"decision_function\"):\n",
    "        y_pred_proba = model.decision_function(X_test)\n",
    "    else:\n",
    "        y_pred_proba = None\n",
    "\n",
    "    if \"SGD\" in name:\n",
    "        if \"Modified Huber\" in name:\n",
    "            results[name][\"Modified Huber Loss\"] = np.mean(\n",
    "                np.maximum(0, 1 - y_test * y_pred_proba) +\n",
    "                0.5 * np.maximum(0, 1 - y_test * y_pred_proba) ** 2\n",
    "            )\n",
    "        elif \"Hinge\" in name:\n",
    "            results[name][\"Hinge Loss\"] = np.mean(np.maximum(0, 1 - y_test * y_pred_proba))\n",
    "        elif \"Perceptron\" in name:\n",
    "            results[name][\"Perceptron Loss\"] = np.mean(np.maximum(0, -y_test * y_pred_proba))\n",
    "        elif \"Huber\" in name:\n",
    "            results[name][\"Huber Loss\"] = np.mean(np.where(\n",
    "                np.abs(y_test - y_pred) <= 0.1,  # Epsilon value\n",
    "                0.5 * (y_test - y_pred) ** 2,\n",
    "                0.1 * (np.abs(y_test - y_pred) - 0.5 * 0.1)\n",
    "            ))\n",
    "    if \"Logistic Regression\" in name or \"MLP\" in name:\n",
    "        if y_pred_proba is not None:\n",
    "            results[name][\"Log Loss\"] = log_loss(y_test, model.predict_proba(X_test))\n",
    "    if \"Gradient Boosting\" in name or \"Random Forest\" in name or \"AdaBoost\" in name:\n",
    "        if y_pred_proba is not None:\n",
    "            results[name][\"Squared Error Loss\"] = mean_squared_error(y_test, y_pred_proba)\n",
    "\n",
    "if \"SVM\" in results:\n",
    "    epsilon = 0.1\n",
    "    y_pred_svm = models[\"SVM\"].decision_function(X_test)\n",
    "    results[\"SVM\"][\"Epsilon-Insensitive Loss\"] = np.mean(\n",
    "        np.maximum(0, np.abs(y_test - y_pred_svm) - epsilon)\n",
    "    )\n",
    "    results[\"SVM\"][\"Squared Epsilon-Insensitive Loss\"] = np.mean(\n",
    "        np.maximum(0, np.abs(y_test - y_pred_svm) - epsilon) ** 2\n",
    "    )\n",
    "    results[\"SVM\"][\"Squared Hinge Loss\"] = np.mean(np.maximum(0, 1 - y_test * y_pred_svm) ** 2)\n",
    "\n",
    "loss_names = set()\n",
    "for metrics in results.values():\n",
    "    loss_names.update(metrics.keys())\n",
    "loss_names = [loss for loss in loss_names if \"Loss\" in loss]\n",
    "\n",
    "best_losses = {}\n",
    "for loss in loss_names:\n",
    "    best_value = float('inf')\n",
    "    for model_name, metrics in results.items():\n",
    "        if loss in metrics:\n",
    "            best_value = min(best_value, metrics[loss])\n",
    "    if best_value != float('inf'):\n",
    "        best_losses[loss] = best_value\n",
    "\n",
    "plt.figure(figsize=(10, 6))\n",
    "bars = plt.bar(best_losses.keys(), best_losses.values(), color='skyblue')\n",
    "\n",
    "for bar in bars:\n",
    "    height = bar.get_height()\n",
    "    plt.text(bar.get_x() + bar.get_width() / 2, height, f'{height:.3f}', ha='center',va='bottom',fontsize=10, color='black')\n",
    "\n",
    "plt.xlabel(\"Loss Function\")\n",
    "plt.ylabel(\"Loss Value\")\n",
    "plt.xticks(rotation=45, ha=\"right\")\n",
    "plt.tight_layout()\n",
    "plt.show()"
   ]
  },
  {
   "cell_type": "code",
   "execution_count": 3,
   "metadata": {},
   "outputs": [],
   "source": [
    "for col in df.select_dtypes(include=['object']).columns:\n",
    "    encoder = LabelEncoder()\n",
    "    df[col] = encoder.fit_transform(df[col])"
   ]
  },
  {
   "cell_type": "code",
   "execution_count": 4,
   "metadata": {},
   "outputs": [],
   "source": [
    "X = df.drop(columns=['label'])\n",
    "y = df['label']"
   ]
  },
  {
   "cell_type": "code",
   "execution_count": 5,
   "metadata": {},
   "outputs": [],
   "source": [
    "X_train, X_test, y_train, y_test = train_test_split(X, y, test_size=0.2, random_state=42)"
   ]
  },
  {
   "cell_type": "code",
   "execution_count": 10,
   "metadata": {},
   "outputs": [
    {
     "name": "stdout",
     "output_type": "stream",
     "text": [
      "Random Forest\n",
      "Training Time:  224.33868956565857\n",
      "Accuracy: 0.9998300880144085\n",
      "Classification Report:\n",
      "               precision    recall  f1-score   support\n",
      "\n",
      "           0       1.00      1.00      1.00     95470\n",
      "           1       1.00      1.00      1.00    139946\n",
      "\n",
      "    accuracy                           1.00    235416\n",
      "   macro avg       1.00      1.00      1.00    235416\n",
      "weighted avg       1.00      1.00      1.00    235416\n",
      "\n"
     ]
    }
   ],
   "source": [
    "start_time = time.time()\n",
    "model_rf = RandomForestClassifier(random_state=42)\n",
    "model_rf.fit(X_train, y_train)\n",
    "training_time_rf = time.time() - start_time\n",
    "y_pred_rf = model_rf.predict(X_test)\n",
    "\n",
    "print(\"Random Forest\")\n",
    "print(\"Training Time: \", training_time_rf)\n",
    "print(\"Accuracy:\", accuracy_score(y_test, y_pred_rf))\n",
    "print(\"Classification Report:\\n\", classification_report(y_test, y_pred_rf))"
   ]
  },
  {
   "cell_type": "code",
   "execution_count": 11,
   "metadata": {},
   "outputs": [
    {
     "name": "stdout",
     "output_type": "stream",
     "text": [
      "Logistic Regression\n",
      "Training Time:  4.903329372406006\n",
      "Accuracy: 0.8231513575967648\n",
      "Classification Report:\n",
      "               precision    recall  f1-score   support\n",
      "\n",
      "           0       0.93      0.61      0.74     95470\n",
      "           1       0.79      0.97      0.87    139946\n",
      "\n",
      "    accuracy                           0.82    235416\n",
      "   macro avg       0.86      0.79      0.80    235416\n",
      "weighted avg       0.84      0.82      0.81    235416\n",
      "\n"
     ]
    }
   ],
   "source": [
    "start_time = time.time()\n",
    "model_lr = LogisticRegression(solver='liblinear')\n",
    "model_lr.fit(X_train, y_train)\n",
    "training_time_lr = time.time() - start_time\n",
    "y_pred_lr = model_lr.predict(X_test)\n",
    "\n",
    "print(\"Logistic Regression\")\n",
    "print(\"Training Time: \", training_time_lr)\n",
    "print(\"Accuracy:\", accuracy_score(y_test, y_pred_lr))\n",
    "print(\"Classification Report:\\n\", classification_report(y_test, y_pred_lr))"
   ]
  },
  {
   "cell_type": "code",
   "execution_count": 12,
   "metadata": {},
   "outputs": [
    {
     "name": "stderr",
     "output_type": "stream",
     "text": [
      "c:\\Users\\pc\\AppData\\Local\\Programs\\Python\\Python312\\Lib\\site-packages\\sklearn\\ensemble\\_weight_boosting.py:527: FutureWarning: The SAMME.R algorithm (the default) is deprecated and will be removed in 1.6. Use the SAMME algorithm to circumvent this warning.\n",
      "  warnings.warn(\n"
     ]
    },
    {
     "name": "stdout",
     "output_type": "stream",
     "text": [
      "AdaBoost\n",
      "Training Time:  72.98079371452332\n",
      "Accuracy: 0.9956375097699391\n",
      "Classification Report:\n",
      "               precision    recall  f1-score   support\n",
      "\n",
      "           0       1.00      0.99      0.99     95470\n",
      "           1       0.99      1.00      1.00    139946\n",
      "\n",
      "    accuracy                           1.00    235416\n",
      "   macro avg       1.00      0.99      1.00    235416\n",
      "weighted avg       1.00      1.00      1.00    235416\n",
      "\n"
     ]
    }
   ],
   "source": [
    "start_time = time.time()\n",
    "model_ab = AdaBoostClassifier(random_state=42)\n",
    "model_ab.fit(X_train, y_train)\n",
    "training_time_ab = time.time() - start_time\n",
    "y_pred_ab = model_ab.predict(X_test)\n",
    "\n",
    "print(\"AdaBoost\")\n",
    "print(\"Training Time: \", training_time_ab)\n",
    "print(\"Accuracy:\", accuracy_score(y_test, y_pred_ab))\n",
    "print(\"Classification Report:\\n\", classification_report(y_test, y_pred_ab))"
   ]
  },
  {
   "cell_type": "code",
   "execution_count": 13,
   "metadata": {},
   "outputs": [
    {
     "name": "stdout",
     "output_type": "stream",
     "text": [
      "SGD Classifier\n",
      "Training Time:  101.81535792350769\n",
      "Accuracy: 0.4055374316104258\n",
      "Classification Report:\n",
      "               precision    recall  f1-score   support\n",
      "\n",
      "           0       0.41      1.00      0.58     95470\n",
      "           1       0.00      0.00      0.00    139946\n",
      "\n",
      "    accuracy                           0.41    235416\n",
      "   macro avg       0.20      0.50      0.29    235416\n",
      "weighted avg       0.16      0.41      0.23    235416\n",
      "\n"
     ]
    },
    {
     "name": "stderr",
     "output_type": "stream",
     "text": [
      "c:\\Users\\pc\\AppData\\Local\\Programs\\Python\\Python312\\Lib\\site-packages\\sklearn\\metrics\\_classification.py:1531: UndefinedMetricWarning: Precision is ill-defined and being set to 0.0 in labels with no predicted samples. Use `zero_division` parameter to control this behavior.\n",
      "  _warn_prf(average, modifier, f\"{metric.capitalize()} is\", len(result))\n",
      "c:\\Users\\pc\\AppData\\Local\\Programs\\Python\\Python312\\Lib\\site-packages\\sklearn\\metrics\\_classification.py:1531: UndefinedMetricWarning: Precision is ill-defined and being set to 0.0 in labels with no predicted samples. Use `zero_division` parameter to control this behavior.\n",
      "  _warn_prf(average, modifier, f\"{metric.capitalize()} is\", len(result))\n",
      "c:\\Users\\pc\\AppData\\Local\\Programs\\Python\\Python312\\Lib\\site-packages\\sklearn\\metrics\\_classification.py:1531: UndefinedMetricWarning: Precision is ill-defined and being set to 0.0 in labels with no predicted samples. Use `zero_division` parameter to control this behavior.\n",
      "  _warn_prf(average, modifier, f\"{metric.capitalize()} is\", len(result))\n"
     ]
    }
   ],
   "source": [
    "start_time = time.time()\n",
    "model_sgd = SGDClassifier(random_state=42)\n",
    "model_sgd.fit(X_train, y_train)\n",
    "training_time_sgd = time.time() - start_time\n",
    "y_pred_sgd = model_sgd.predict(X_test)\n",
    "\n",
    "print(\"SGD Classifier\")\n",
    "print(\"Training Time: \", training_time_sgd)\n",
    "print(\"Accuracy:\", accuracy_score(y_test, y_pred_sgd))\n",
    "print(\"Classification Report:\\n\", classification_report(y_test, y_pred_sgd))"
   ]
  },
  {
   "cell_type": "code",
   "execution_count": 14,
   "metadata": {},
   "outputs": [
    {
     "name": "stdout",
     "output_type": "stream",
     "text": [
      "SVM\n",
      "Training Time:  23.61923861503601\n",
      "Accuracy: 0.5944625683895742\n"
     ]
    },
    {
     "name": "stderr",
     "output_type": "stream",
     "text": [
      "c:\\Users\\pc\\AppData\\Local\\Programs\\Python\\Python312\\Lib\\site-packages\\sklearn\\metrics\\_classification.py:1531: UndefinedMetricWarning: Precision is ill-defined and being set to 0.0 in labels with no predicted samples. Use `zero_division` parameter to control this behavior.\n",
      "  _warn_prf(average, modifier, f\"{metric.capitalize()} is\", len(result))\n",
      "c:\\Users\\pc\\AppData\\Local\\Programs\\Python\\Python312\\Lib\\site-packages\\sklearn\\metrics\\_classification.py:1531: UndefinedMetricWarning: Precision is ill-defined and being set to 0.0 in labels with no predicted samples. Use `zero_division` parameter to control this behavior.\n",
      "  _warn_prf(average, modifier, f\"{metric.capitalize()} is\", len(result))\n"
     ]
    },
    {
     "name": "stdout",
     "output_type": "stream",
     "text": [
      "Classification Report:\n",
      "               precision    recall  f1-score   support\n",
      "\n",
      "           0       0.00      0.00      0.00     95470\n",
      "           1       0.59      1.00      0.75    139946\n",
      "\n",
      "    accuracy                           0.59    235416\n",
      "   macro avg       0.30      0.50      0.37    235416\n",
      "weighted avg       0.35      0.59      0.44    235416\n",
      "\n"
     ]
    },
    {
     "name": "stderr",
     "output_type": "stream",
     "text": [
      "c:\\Users\\pc\\AppData\\Local\\Programs\\Python\\Python312\\Lib\\site-packages\\sklearn\\metrics\\_classification.py:1531: UndefinedMetricWarning: Precision is ill-defined and being set to 0.0 in labels with no predicted samples. Use `zero_division` parameter to control this behavior.\n",
      "  _warn_prf(average, modifier, f\"{metric.capitalize()} is\", len(result))\n"
     ]
    }
   ],
   "source": [
    "X_train_sample = X_train[:10000]\n",
    "y_train_sample = y_train[:10000]\n",
    "\n",
    "start_time = time.time()\n",
    "model_svm = SVC(random_state=42, probability=True)\n",
    "model_svm.fit(X_train_sample, y_train_sample)\n",
    "training_time_svm = time.time() - start_time\n",
    "y_pred_svm = model_svm.predict(X_test)\n",
    "\n",
    "print(\"SVM\")\n",
    "print(\"Training Time: \", training_time_svm)\n",
    "print(\"Accuracy:\", accuracy_score(y_test, y_pred_svm))\n",
    "print(\"Classification Report:\\n\", classification_report(y_test, y_pred_svm))"
   ]
  },
  {
   "cell_type": "code",
   "execution_count": 15,
   "metadata": {},
   "outputs": [
    {
     "name": "stdout",
     "output_type": "stream",
     "text": [
      "Gradient Boosting\n",
      "Training Time:  251.78492736816406\n",
      "Accuracy: 0.9998810616100859\n",
      "Classification Report:\n",
      "               precision    recall  f1-score   support\n",
      "\n",
      "           0       1.00      1.00      1.00     95470\n",
      "           1       1.00      1.00      1.00    139946\n",
      "\n",
      "    accuracy                           1.00    235416\n",
      "   macro avg       1.00      1.00      1.00    235416\n",
      "weighted avg       1.00      1.00      1.00    235416\n",
      "\n"
     ]
    }
   ],
   "source": [
    "start_time = time.time()\n",
    "model_gb = GradientBoostingClassifier(random_state=42)\n",
    "model_gb.fit(X_train, y_train)\n",
    "training_time_gb = time.time() - start_time\n",
    "y_pred_gb = model_gb.predict(X_test)\n",
    "\n",
    "print(\"Gradient Boosting\")\n",
    "print(\"Training Time: \", training_time_gb)\n",
    "print(\"Accuracy:\", accuracy_score(y_test, y_pred_gb))\n",
    "print(\"Classification Report:\\n\", classification_report(y_test, y_pred_gb))"
   ]
  },
  {
   "cell_type": "code",
   "execution_count": 16,
   "metadata": {},
   "outputs": [
    {
     "name": "stdout",
     "output_type": "stream",
     "text": [
      "Neural Network (MLP)\n",
      "Training Time:  228.60090351104736\n",
      "Accuracy: 0.7373543004723553\n",
      "Classification Report:\n",
      "               precision    recall  f1-score   support\n",
      "\n",
      "           0       0.61      0.98      0.75     95470\n",
      "           1       0.97      0.58      0.72    139946\n",
      "\n",
      "    accuracy                           0.74    235416\n",
      "   macro avg       0.79      0.78      0.74    235416\n",
      "weighted avg       0.82      0.74      0.73    235416\n",
      "\n"
     ]
    }
   ],
   "source": [
    "start_time = time.time()\n",
    "model_mlp = MLPClassifier(hidden_layer_sizes=(128,), random_state=42, max_iter=300)\n",
    "model_mlp.fit(X_train, y_train)\n",
    "training_time_mlp = time.time() - start_time\n",
    "y_pred_mlp = model_mlp.predict(X_test)\n",
    "\n",
    "print(\"Neural Network (MLP)\")\n",
    "print(\"Training Time: \", training_time_mlp)\n",
    "print(\"Accuracy:\", accuracy_score(y_test, y_pred_mlp))\n",
    "print(\"Classification Report:\\n\", classification_report(y_test, y_pred_mlp))"
   ]
  },
  {
   "cell_type": "code",
   "execution_count": 17,
   "metadata": {},
   "outputs": [
    {
     "name": "stderr",
     "output_type": "stream",
     "text": [
      "c:\\Users\\pc\\AppData\\Local\\Programs\\Python\\Python312\\Lib\\site-packages\\keras\\src\\layers\\core\\dense.py:87: UserWarning: Do not pass an `input_shape`/`input_dim` argument to a layer. When using Sequential models, prefer using an `Input(shape)` object as the first layer in the model instead.\n",
      "  super().__init__(activity_regularizer=activity_regularizer, **kwargs)\n"
     ]
    },
    {
     "name": "stdout",
     "output_type": "stream",
     "text": [
      "Epoch 1/10\n",
      "\u001b[1m11771/11771\u001b[0m \u001b[32m━━━━━━━━━━━━━━━━━━━━\u001b[0m\u001b[37m\u001b[0m \u001b[1m20s\u001b[0m 2ms/step - accuracy: 0.5729 - loss: 2216736.2500 - val_accuracy: 0.5945 - val_loss: 0.6752\n",
      "Epoch 2/10\n",
      "\u001b[1m11771/11771\u001b[0m \u001b[32m━━━━━━━━━━━━━━━━━━━━\u001b[0m\u001b[37m\u001b[0m \u001b[1m19s\u001b[0m 2ms/step - accuracy: 0.5927 - loss: 217.9648 - val_accuracy: 0.5945 - val_loss: 0.6752\n",
      "Epoch 3/10\n",
      "\u001b[1m11771/11771\u001b[0m \u001b[32m━━━━━━━━━━━━━━━━━━━━\u001b[0m\u001b[37m\u001b[0m \u001b[1m19s\u001b[0m 2ms/step - accuracy: 0.5929 - loss: 15.3342 - val_accuracy: 0.5945 - val_loss: 0.6752\n",
      "Epoch 4/10\n",
      "\u001b[1m11771/11771\u001b[0m \u001b[32m━━━━━━━━━━━━━━━━━━━━\u001b[0m\u001b[37m\u001b[0m \u001b[1m19s\u001b[0m 2ms/step - accuracy: 0.5939 - loss: 3.8692 - val_accuracy: 0.5945 - val_loss: 0.6752\n",
      "Epoch 5/10\n",
      "\u001b[1m11771/11771\u001b[0m \u001b[32m━━━━━━━━━━━━━━━━━━━━\u001b[0m\u001b[37m\u001b[0m \u001b[1m19s\u001b[0m 2ms/step - accuracy: 0.5936 - loss: 3.7196 - val_accuracy: 0.5945 - val_loss: 0.6752\n",
      "Epoch 6/10\n",
      "\u001b[1m11771/11771\u001b[0m \u001b[32m━━━━━━━━━━━━━━━━━━━━\u001b[0m\u001b[37m\u001b[0m \u001b[1m19s\u001b[0m 2ms/step - accuracy: 0.5937 - loss: 4.2512 - val_accuracy: 0.5945 - val_loss: 0.6752\n",
      "Epoch 7/10\n",
      "\u001b[1m11771/11771\u001b[0m \u001b[32m━━━━━━━━━━━━━━━━━━━━\u001b[0m\u001b[37m\u001b[0m \u001b[1m19s\u001b[0m 2ms/step - accuracy: 0.5943 - loss: 73.4073 - val_accuracy: 0.5945 - val_loss: 0.6752\n",
      "Epoch 8/10\n",
      "\u001b[1m11771/11771\u001b[0m \u001b[32m━━━━━━━━━━━━━━━━━━━━\u001b[0m\u001b[37m\u001b[0m \u001b[1m19s\u001b[0m 2ms/step - accuracy: 0.5943 - loss: 0.6753 - val_accuracy: 0.5945 - val_loss: 0.6752\n",
      "Epoch 9/10\n",
      "\u001b[1m11771/11771\u001b[0m \u001b[32m━━━━━━━━━━━━━━━━━━━━\u001b[0m\u001b[37m\u001b[0m \u001b[1m19s\u001b[0m 2ms/step - accuracy: 0.5942 - loss: 24.4046 - val_accuracy: 0.5945 - val_loss: 0.6752\n",
      "Epoch 10/10\n",
      "\u001b[1m11771/11771\u001b[0m \u001b[32m━━━━━━━━━━━━━━━━━━━━\u001b[0m\u001b[37m\u001b[0m \u001b[1m19s\u001b[0m 2ms/step - accuracy: 0.5946 - loss: 0.6752 - val_accuracy: 0.5945 - val_loss: 0.6752\n",
      "\u001b[1m7357/7357\u001b[0m \u001b[32m━━━━━━━━━━━━━━━━━━━━\u001b[0m\u001b[37m\u001b[0m \u001b[1m6s\u001b[0m 838us/step\n",
      "Deep Neural Network (DNN)\n",
      "Training Time:  191.1996796131134\n",
      "Accuracy: 0.5944625683895742\n"
     ]
    },
    {
     "name": "stderr",
     "output_type": "stream",
     "text": [
      "c:\\Users\\pc\\AppData\\Local\\Programs\\Python\\Python312\\Lib\\site-packages\\sklearn\\metrics\\_classification.py:1531: UndefinedMetricWarning: Precision is ill-defined and being set to 0.0 in labels with no predicted samples. Use `zero_division` parameter to control this behavior.\n",
      "  _warn_prf(average, modifier, f\"{metric.capitalize()} is\", len(result))\n",
      "c:\\Users\\pc\\AppData\\Local\\Programs\\Python\\Python312\\Lib\\site-packages\\sklearn\\metrics\\_classification.py:1531: UndefinedMetricWarning: Precision is ill-defined and being set to 0.0 in labels with no predicted samples. Use `zero_division` parameter to control this behavior.\n",
      "  _warn_prf(average, modifier, f\"{metric.capitalize()} is\", len(result))\n"
     ]
    },
    {
     "name": "stdout",
     "output_type": "stream",
     "text": [
      "Classification Report:\n",
      "               precision    recall  f1-score   support\n",
      "\n",
      "           0       0.00      0.00      0.00     95470\n",
      "           1       0.59      1.00      0.75    139946\n",
      "\n",
      "    accuracy                           0.59    235416\n",
      "   macro avg       0.30      0.50      0.37    235416\n",
      "weighted avg       0.35      0.59      0.44    235416\n",
      "\n"
     ]
    },
    {
     "name": "stderr",
     "output_type": "stream",
     "text": [
      "c:\\Users\\pc\\AppData\\Local\\Programs\\Python\\Python312\\Lib\\site-packages\\sklearn\\metrics\\_classification.py:1531: UndefinedMetricWarning: Precision is ill-defined and being set to 0.0 in labels with no predicted samples. Use `zero_division` parameter to control this behavior.\n",
      "  _warn_prf(average, modifier, f\"{metric.capitalize()} is\", len(result))\n"
     ]
    }
   ],
   "source": [
    "start_time = time.time()\n",
    "\n",
    "model_dnn = Sequential([\n",
    "    Dense(128, activation='relu', input_shape=(X_train.shape[1],)),\n",
    "    Dropout(0.3),\n",
    "    Dense(64, activation='relu'),\n",
    "    Dropout(0.3),\n",
    "    Dense(1, activation='sigmoid') \n",
    "])\n",
    "\n",
    "model_dnn.compile(optimizer='adam', loss='binary_crossentropy', metrics=['accuracy'])\n",
    "\n",
    "model_dnn.fit(X_train, y_train, epochs=10, batch_size=64, validation_split=0.2, verbose=1)\n",
    "training_time_dp = time.time() - start_time\n",
    "\n",
    "y_pred_dnn = (model_dnn.predict(X_test) > 0.5).astype(int)\n",
    "\n",
    "print(\"Deep Neural Network (DNN)\")\n",
    "print(\"Training Time: \", training_time_dp)\n",
    "print(\"Accuracy:\", accuracy_score(y_test, y_pred_dnn))\n",
    "print(\"Classification Report:\\n\", classification_report(y_test, y_pred_dnn))"
   ]
  },
  {
   "cell_type": "code",
   "execution_count": 18,
   "metadata": {},
   "outputs": [
    {
     "name": "stdout",
     "output_type": "stream",
     "text": [
      "Epoch 1/10\n"
     ]
    },
    {
     "name": "stderr",
     "output_type": "stream",
     "text": [
      "c:\\Users\\pc\\AppData\\Local\\Programs\\Python\\Python312\\Lib\\site-packages\\keras\\src\\layers\\convolutional\\base_conv.py:107: UserWarning: Do not pass an `input_shape`/`input_dim` argument to a layer. When using Sequential models, prefer using an `Input(shape)` object as the first layer in the model instead.\n",
      "  super().__init__(activity_regularizer=activity_regularizer, **kwargs)\n"
     ]
    },
    {
     "name": "stdout",
     "output_type": "stream",
     "text": [
      "\u001b[1m11771/11771\u001b[0m \u001b[32m━━━━━━━━━━━━━━━━━━━━\u001b[0m\u001b[37m\u001b[0m \u001b[1m64s\u001b[0m 5ms/step - accuracy: 0.9557 - loss: 0.1604 - val_accuracy: 0.9607 - val_loss: 0.1402\n",
      "Epoch 2/10\n",
      "\u001b[1m11771/11771\u001b[0m \u001b[32m━━━━━━━━━━━━━━━━━━━━\u001b[0m\u001b[37m\u001b[0m \u001b[1m65s\u001b[0m 6ms/step - accuracy: 0.9605 - loss: 0.1432 - val_accuracy: 0.9611 - val_loss: 0.1381\n",
      "Epoch 3/10\n",
      "\u001b[1m11771/11771\u001b[0m \u001b[32m━━━━━━━━━━━━━━━━━━━━\u001b[0m\u001b[37m\u001b[0m \u001b[1m64s\u001b[0m 5ms/step - accuracy: 0.9613 - loss: 0.1420 - val_accuracy: 0.9620 - val_loss: 0.1408\n",
      "Epoch 4/10\n",
      "\u001b[1m11771/11771\u001b[0m \u001b[32m━━━━━━━━━━━━━━━━━━━━\u001b[0m\u001b[37m\u001b[0m \u001b[1m64s\u001b[0m 5ms/step - accuracy: 0.9616 - loss: 0.1402 - val_accuracy: 0.9630 - val_loss: 0.1378\n",
      "Epoch 5/10\n",
      "\u001b[1m11771/11771\u001b[0m \u001b[32m━━━━━━━━━━━━━━━━━━━━\u001b[0m\u001b[37m\u001b[0m \u001b[1m68s\u001b[0m 6ms/step - accuracy: 0.9628 - loss: 0.1373 - val_accuracy: 0.9644 - val_loss: 0.1325\n",
      "Epoch 6/10\n",
      "\u001b[1m11771/11771\u001b[0m \u001b[32m━━━━━━━━━━━━━━━━━━━━\u001b[0m\u001b[37m\u001b[0m \u001b[1m66s\u001b[0m 6ms/step - accuracy: 0.9632 - loss: 0.1356 - val_accuracy: 0.9638 - val_loss: 0.1075\n",
      "Epoch 7/10\n",
      "\u001b[1m11771/11771\u001b[0m \u001b[32m━━━━━━━━━━━━━━━━━━━━\u001b[0m\u001b[37m\u001b[0m \u001b[1m65s\u001b[0m 6ms/step - accuracy: 0.9629 - loss: 0.1304 - val_accuracy: 0.9632 - val_loss: 0.1327\n",
      "Epoch 8/10\n",
      "\u001b[1m11771/11771\u001b[0m \u001b[32m━━━━━━━━━━━━━━━━━━━━\u001b[0m\u001b[37m\u001b[0m \u001b[1m64s\u001b[0m 5ms/step - accuracy: 0.9635 - loss: 0.1325 - val_accuracy: 0.9643 - val_loss: 0.1314\n",
      "Epoch 9/10\n",
      "\u001b[1m11771/11771\u001b[0m \u001b[32m━━━━━━━━━━━━━━━━━━━━\u001b[0m\u001b[37m\u001b[0m \u001b[1m66s\u001b[0m 6ms/step - accuracy: 0.9637 - loss: 0.1326 - val_accuracy: 0.9630 - val_loss: 0.1323\n",
      "Epoch 10/10\n",
      "\u001b[1m11771/11771\u001b[0m \u001b[32m━━━━━━━━━━━━━━━━━━━━\u001b[0m\u001b[37m\u001b[0m \u001b[1m67s\u001b[0m 6ms/step - accuracy: 0.9635 - loss: 0.1343 - val_accuracy: 0.9630 - val_loss: 0.1353\n",
      "\u001b[1m7357/7357\u001b[0m \u001b[32m━━━━━━━━━━━━━━━━━━━━\u001b[0m\u001b[37m\u001b[0m \u001b[1m14s\u001b[0m 2ms/step\n",
      "CNN-LSTM\n",
      "Training Time:  655.7625608444214\n",
      "Accuracy: 0.9623347605940124\n",
      "Classification Report:\n",
      "               precision    recall  f1-score   support\n",
      "\n",
      "           0       1.00      0.91      0.95     95470\n",
      "           1       0.94      1.00      0.97    139946\n",
      "\n",
      "    accuracy                           0.96    235416\n",
      "   macro avg       0.97      0.95      0.96    235416\n",
      "weighted avg       0.96      0.96      0.96    235416\n",
      "\n"
     ]
    }
   ],
   "source": [
    "X_train_reshaped = np.expand_dims(X_train, axis=-1) \n",
    "X_test_reshaped = np.expand_dims(X_test, axis=-1)\n",
    "start_time = time.time()\n",
    "\n",
    "model_cnn_lstm = Sequential([\n",
    "    Conv1D(64, kernel_size=3, activation='relu', input_shape=(X_train_reshaped.shape[1], 1)),\n",
    "    MaxPooling1D(pool_size=2),\n",
    "    LSTM(50, return_sequences=False), \n",
    "    Dropout(0.3),\n",
    "    Dense(1, activation='sigmoid') \n",
    "])\n",
    "\n",
    "model_cnn_lstm.compile(optimizer='adam', loss='binary_crossentropy', metrics=['accuracy'])\n",
    "\n",
    "model_cnn_lstm.fit(X_train_reshaped, y_train, epochs=10, batch_size=64, validation_split=0.2, verbose=1)\n",
    "training_time_cnn = time.time() - start_time\n",
    "\n",
    "y_pred_cnn_lstm = (model_cnn_lstm.predict(X_test_reshaped) > 0.5).astype(int)\n",
    "\n",
    "print(\"CNN-LSTM\")\n",
    "print(\"Training Time: \", training_time_cnn)\n",
    "print(\"Accuracy:\", accuracy_score(y_test, y_pred_cnn_lstm))\n",
    "print(\"Classification Report:\\n\", classification_report(y_test, y_pred_cnn_lstm))\n"
   ]
  },
  {
   "cell_type": "code",
   "execution_count": 6,
   "metadata": {},
   "outputs": [],
   "source": [
    "scaler = StandardScaler()\n",
    "X_scaled = scaler.fit_transform(X)"
   ]
  },
  {
   "cell_type": "code",
   "execution_count": 7,
   "metadata": {},
   "outputs": [],
   "source": [
    "X_train, X_test, y_train, y_test = train_test_split(X_scaled, y, test_size=0.2, random_state=42)\n",
    "\n",
    "# from sklearn.preprocessing import MinMaxScaler\n",
    "# scaler = MinMaxScaler()\n",
    "\n",
    "# X_train = scaler.fit_transform(X_train)\n",
    "# X_test = scaler.transform(X_test)\n",
    "\n",
    "# smote = SMOTE(random_state=42)\n",
    "# X_train, y_train = smote.fit_resample(X_train1, y_train1)"
   ]
  },
  {
   "cell_type": "code",
   "execution_count": 21,
   "metadata": {},
   "outputs": [
    {
     "name": "stdout",
     "output_type": "stream",
     "text": [
      "Random Forest\n",
      "Training Time:  94.75532984733582\n",
      "Accuracy: 0.9944990994664764\n",
      "Classification Report:\n",
      "               precision    recall  f1-score   support\n",
      "\n",
      "           0       1.00      0.99      0.99     95470\n",
      "           1       0.99      1.00      1.00    139946\n",
      "\n",
      "    accuracy                           0.99    235416\n",
      "   macro avg       1.00      0.99      0.99    235416\n",
      "weighted avg       0.99      0.99      0.99    235416\n",
      "\n"
     ]
    }
   ],
   "source": [
    "import time\n",
    "start_time = time.time()\n",
    "model_rf = RandomForestClassifier(random_state=42, n_estimators=50, max_depth=10, max_features='sqrt')\n",
    "model_rf.fit(X_train, y_train)\n",
    "training_time_rfn = time.time() - start_time\n",
    "y_pred_rf = model_rf.predict(X_test)\n",
    "\n",
    "print(\"Random Forest\")\n",
    "print(\"Training Time: \", training_time_rfn)\n",
    "print(\"Accuracy:\", accuracy_score(y_test, y_pred_rf))\n",
    "print(\"Classification Report:\\n\", classification_report(y_test, y_pred_rf))\n"
   ]
  },
  {
   "cell_type": "code",
   "execution_count": 22,
   "metadata": {},
   "outputs": [
    {
     "name": "stdout",
     "output_type": "stream",
     "text": [
      "Logistic Regression\n",
      "Training Time:  8.722066879272461\n",
      "Accuracy: 0.9501010976314269\n",
      "Classification Report:\n",
      "               precision    recall  f1-score   support\n",
      "\n",
      "           0       0.95      0.92      0.94     95470\n",
      "           1       0.95      0.97      0.96    139946\n",
      "\n",
      "    accuracy                           0.95    235416\n",
      "   macro avg       0.95      0.95      0.95    235416\n",
      "weighted avg       0.95      0.95      0.95    235416\n",
      "\n"
     ]
    }
   ],
   "source": [
    "start_time = time.time()\n",
    "model_lr = LogisticRegression(solver='liblinear', max_iter=200, random_state=42)\n",
    "model_lr.fit(X_train, y_train)\n",
    "training_time_lrn = time.time() - start_time\n",
    "y_pred_lr = model_lr.predict(X_test)\n",
    "\n",
    "print(\"Logistic Regression\")\n",
    "print(\"Training Time: \", training_time_lrn)\n",
    "print(\"Accuracy:\", accuracy_score(y_test, y_pred_lr))\n",
    "print(\"Classification Report:\\n\", classification_report(y_test, y_pred_lr))"
   ]
  },
  {
   "cell_type": "code",
   "execution_count": 23,
   "metadata": {},
   "outputs": [
    {
     "name": "stderr",
     "output_type": "stream",
     "text": [
      "c:\\Users\\pc\\AppData\\Local\\Programs\\Python\\Python312\\Lib\\site-packages\\sklearn\\ensemble\\_weight_boosting.py:527: FutureWarning: The SAMME.R algorithm (the default) is deprecated and will be removed in 1.6. Use the SAMME algorithm to circumvent this warning.\n",
      "  warnings.warn(\n"
     ]
    },
    {
     "name": "stdout",
     "output_type": "stream",
     "text": [
      "AdaBoost\n",
      "Training Time:  88.49673819541931\n",
      "Accuracy: 0.9919844020797227\n",
      "Classification Report:\n",
      "               precision    recall  f1-score   support\n",
      "\n",
      "           0       1.00      0.98      0.99     95470\n",
      "           1       0.99      1.00      0.99    139946\n",
      "\n",
      "    accuracy                           0.99    235416\n",
      "   macro avg       0.99      0.99      0.99    235416\n",
      "weighted avg       0.99      0.99      0.99    235416\n",
      "\n"
     ]
    }
   ],
   "source": [
    "start_time = time.time()\n",
    "model_ab = AdaBoostClassifier(random_state=42, n_estimators=50, learning_rate=0.2)\n",
    "model_ab.fit(X_train, y_train)\n",
    "training_time_abn = time.time() - start_time\n",
    "y_pred_ab = model_ab.predict(X_test)\n",
    "\n",
    "print(\"AdaBoost\")\n",
    "print(\"Training Time: \", training_time_abn)\n",
    "print(\"Accuracy:\", accuracy_score(y_test, y_pred_ab))\n",
    "print(\"Classification Report:\\n\", classification_report(y_test, y_pred_ab))"
   ]
  },
  {
   "cell_type": "code",
   "execution_count": 24,
   "metadata": {},
   "outputs": [
    {
     "name": "stdout",
     "output_type": "stream",
     "text": [
      "SGD Classifier\n",
      "Training Time:  1.6236686706542969\n",
      "Accuracy: 0.9600621877867265\n",
      "Classification Report:\n",
      "               precision    recall  f1-score   support\n",
      "\n",
      "           0       1.00      0.90      0.95     95470\n",
      "           1       0.94      1.00      0.97    139946\n",
      "\n",
      "    accuracy                           0.96    235416\n",
      "   macro avg       0.97      0.95      0.96    235416\n",
      "weighted avg       0.96      0.96      0.96    235416\n",
      "\n"
     ]
    }
   ],
   "source": [
    "start_time = time.time()\n",
    "model_sgd = SGDClassifier(random_state=42, max_iter=1000, tol=1e-3)\n",
    "model_sgd.fit(X_train, y_train)\n",
    "training_time_sgdn = time.time() - start_time\n",
    "y_pred_sgd = model_sgd.predict(X_test)\n",
    "\n",
    "print(\"SGD Classifier\")\n",
    "print(\"Training Time: \", training_time_sgdn)\n",
    "print(\"Accuracy:\", accuracy_score(y_test, y_pred_sgd))\n",
    "print(\"Classification Report:\\n\", classification_report(y_test, y_pred_sgd))"
   ]
  },
  {
   "cell_type": "code",
   "execution_count": 25,
   "metadata": {},
   "outputs": [
    {
     "name": "stdout",
     "output_type": "stream",
     "text": [
      "Gradient Boosting\n",
      "Training Time:  179.73897171020508\n",
      "Accuracy: 0.997791144187311\n",
      "Classification Report:\n",
      "               precision    recall  f1-score   support\n",
      "\n",
      "           0       1.00      0.99      1.00     95470\n",
      "           1       1.00      1.00      1.00    139946\n",
      "\n",
      "    accuracy                           1.00    235416\n",
      "   macro avg       1.00      1.00      1.00    235416\n",
      "weighted avg       1.00      1.00      1.00    235416\n",
      "\n"
     ]
    }
   ],
   "source": [
    "start_time = time.time()\n",
    "model_gb = GradientBoostingClassifier(random_state=42, n_estimators=50)\n",
    "model_gb.fit(X_train, y_train)\n",
    "training_time_gbn = time.time() - start_time\n",
    "y_pred_gb = model_gb.predict(X_test)\n",
    "\n",
    "print(\"Gradient Boosting\")\n",
    "print(\"Training Time: \", training_time_gbn)\n",
    "print(\"Accuracy:\", accuracy_score(y_test, y_pred_gb))\n",
    "print(\"Classification Report:\\n\", classification_report(y_test, y_pred_gb))\n"
   ]
  },
  {
   "cell_type": "code",
   "execution_count": 26,
   "metadata": {},
   "outputs": [
    {
     "name": "stdout",
     "output_type": "stream",
     "text": [
      "SVM\n",
      "Training Time:  5.551141738891602\n",
      "Accuracy: 0.9600621877867265\n",
      "Classification Report:\n",
      "               precision    recall  f1-score   support\n",
      "\n",
      "           0       1.00      0.90      0.95     95470\n",
      "           1       0.94      1.00      0.97    139946\n",
      "\n",
      "    accuracy                           0.96    235416\n",
      "   macro avg       0.97      0.95      0.96    235416\n",
      "weighted avg       0.96      0.96      0.96    235416\n",
      "\n"
     ]
    }
   ],
   "source": [
    "X_train_sample = X_train[:10000]\n",
    "y_train_sample = y_train[:10000]\n",
    "\n",
    "start_time = time.time()\n",
    "model_svm = SVC(random_state=42, C=0.5, kernel='linear', probability=True)\n",
    "model_svm.fit(X_train_sample, y_train_sample)\n",
    "training_time_svmn = time.time() - start_time\n",
    "y_pred_svm = model_svm.predict(X_test)\n",
    "\n",
    "print(\"SVM\")\n",
    "print(\"Training Time: \", training_time_svmn)\n",
    "print(\"Accuracy:\", accuracy_score(y_test, y_pred_svm))\n",
    "print(\"Classification Report:\\n\", classification_report(y_test, y_pred_svm))"
   ]
  },
  {
   "cell_type": "code",
   "execution_count": 27,
   "metadata": {},
   "outputs": [
    {
     "name": "stdout",
     "output_type": "stream",
     "text": [
      "Neural Network (MLP)\n",
      "Training Time:  209.39276790618896\n",
      "Accuracy: 0.9957394569612941\n",
      "Classification Report:\n",
      "               precision    recall  f1-score   support\n",
      "\n",
      "           0       1.00      0.99      0.99     95470\n",
      "           1       0.99      1.00      1.00    139946\n",
      "\n",
      "    accuracy                           1.00    235416\n",
      "   macro avg       1.00      0.99      1.00    235416\n",
      "weighted avg       1.00      1.00      1.00    235416\n",
      "\n"
     ]
    }
   ],
   "source": [
    "start_time = time.time()\n",
    "model_mlp = MLPClassifier(hidden_layer_sizes=(64,), max_iter=200, early_stopping=True, random_state=42)\n",
    "model_mlp.fit(X_train, y_train)\n",
    "training_time_mlpn = time.time() - start_time\n",
    "y_pred_mlp = model_mlp.predict(X_test)\n",
    "\n",
    "print(\"Neural Network (MLP)\")\n",
    "print(\"Training Time: \", training_time_mlpn)\n",
    "print(\"Accuracy:\", accuracy_score(y_test, y_pred_mlp))\n",
    "print(\"Classification Report:\\n\", classification_report(y_test, y_pred_mlp))"
   ]
  },
  {
   "cell_type": "code",
   "execution_count": 28,
   "metadata": {},
   "outputs": [
    {
     "name": "stdout",
     "output_type": "stream",
     "text": [
      "Epoch 1/10\n"
     ]
    },
    {
     "name": "stderr",
     "output_type": "stream",
     "text": [
      "c:\\Users\\pc\\AppData\\Local\\Programs\\Python\\Python312\\Lib\\site-packages\\keras\\src\\layers\\core\\dense.py:87: UserWarning: Do not pass an `input_shape`/`input_dim` argument to a layer. When using Sequential models, prefer using an `Input(shape)` object as the first layer in the model instead.\n",
      "  super().__init__(activity_regularizer=activity_regularizer, **kwargs)\n"
     ]
    },
    {
     "name": "stdout",
     "output_type": "stream",
     "text": [
      "\u001b[1m11771/11771\u001b[0m \u001b[32m━━━━━━━━━━━━━━━━━━━━\u001b[0m\u001b[37m\u001b[0m \u001b[1m20s\u001b[0m 2ms/step - accuracy: 0.9838 - loss: 0.0649 - val_accuracy: 0.9934 - val_loss: 0.0328\n",
      "Epoch 2/10\n",
      "\u001b[1m11771/11771\u001b[0m \u001b[32m━━━━━━━━━━━━━━━━━━━━\u001b[0m\u001b[37m\u001b[0m \u001b[1m19s\u001b[0m 2ms/step - accuracy: 0.9932 - loss: 0.0345 - val_accuracy: 0.9938 - val_loss: 0.0295\n",
      "Epoch 3/10\n",
      "\u001b[1m11771/11771\u001b[0m \u001b[32m━━━━━━━━━━━━━━━━━━━━\u001b[0m\u001b[37m\u001b[0m \u001b[1m19s\u001b[0m 2ms/step - accuracy: 0.9933 - loss: 0.0317 - val_accuracy: 0.9936 - val_loss: 0.0283\n",
      "Epoch 4/10\n",
      "\u001b[1m11771/11771\u001b[0m \u001b[32m━━━━━━━━━━━━━━━━━━━━\u001b[0m\u001b[37m\u001b[0m \u001b[1m20s\u001b[0m 2ms/step - accuracy: 0.9935 - loss: 0.0296 - val_accuracy: 0.9938 - val_loss: 0.0256\n",
      "Epoch 5/10\n",
      "\u001b[1m11771/11771\u001b[0m \u001b[32m━━━━━━━━━━━━━━━━━━━━\u001b[0m\u001b[37m\u001b[0m \u001b[1m19s\u001b[0m 2ms/step - accuracy: 0.9935 - loss: 0.0287 - val_accuracy: 0.9939 - val_loss: 0.0248\n",
      "Epoch 6/10\n",
      "\u001b[1m11771/11771\u001b[0m \u001b[32m━━━━━━━━━━━━━━━━━━━━\u001b[0m\u001b[37m\u001b[0m \u001b[1m20s\u001b[0m 2ms/step - accuracy: 0.9935 - loss: 0.0273 - val_accuracy: 0.9939 - val_loss: 0.0238\n",
      "Epoch 7/10\n",
      "\u001b[1m11771/11771\u001b[0m \u001b[32m━━━━━━━━━━━━━━━━━━━━\u001b[0m\u001b[37m\u001b[0m \u001b[1m19s\u001b[0m 2ms/step - accuracy: 0.9937 - loss: 0.0263 - val_accuracy: 0.9940 - val_loss: 0.0231\n",
      "Epoch 8/10\n",
      "\u001b[1m11771/11771\u001b[0m \u001b[32m━━━━━━━━━━━━━━━━━━━━\u001b[0m\u001b[37m\u001b[0m \u001b[1m19s\u001b[0m 2ms/step - accuracy: 0.9938 - loss: 0.0263 - val_accuracy: 0.9940 - val_loss: 0.0236\n",
      "Epoch 9/10\n",
      "\u001b[1m11771/11771\u001b[0m \u001b[32m━━━━━━━━━━━━━━━━━━━━\u001b[0m\u001b[37m\u001b[0m \u001b[1m19s\u001b[0m 2ms/step - accuracy: 0.9938 - loss: 0.0259 - val_accuracy: 0.9940 - val_loss: 0.0229\n",
      "Epoch 10/10\n",
      "\u001b[1m11771/11771\u001b[0m \u001b[32m━━━━━━━━━━━━━━━━━━━━\u001b[0m\u001b[37m\u001b[0m \u001b[1m19s\u001b[0m 2ms/step - accuracy: 0.9937 - loss: 0.0261 - val_accuracy: 0.9941 - val_loss: 0.0212\n",
      "\u001b[1m7357/7357\u001b[0m \u001b[32m━━━━━━━━━━━━━━━━━━━━\u001b[0m\u001b[37m\u001b[0m \u001b[1m7s\u001b[0m 908us/step\n",
      "Deep Neural Network (DNN)\n",
      "Training Time:  195.47631001472473\n",
      "Accuracy: 0.9941040540999763\n",
      "Classification Report:\n",
      "               precision    recall  f1-score   support\n",
      "\n",
      "           0       1.00      0.99      0.99     95470\n",
      "           1       0.99      1.00      1.00    139946\n",
      "\n",
      "    accuracy                           0.99    235416\n",
      "   macro avg       1.00      0.99      0.99    235416\n",
      "weighted avg       0.99      0.99      0.99    235416\n",
      "\n"
     ]
    }
   ],
   "source": [
    "from tensorflow.keras.callbacks import EarlyStopping\n",
    "start_time = time.time()\n",
    "\n",
    "model_dnn = Sequential([\n",
    "    Dense(128, activation='relu', input_shape=(X_train.shape[1],)),\n",
    "    Dropout(0.3),\n",
    "    Dense(64, activation='relu'),\n",
    "    Dropout(0.3),\n",
    "    Dense(1, activation='sigmoid') \n",
    "])\n",
    "\n",
    "model_dnn.compile(optimizer='adam', loss='binary_crossentropy', metrics=['accuracy'])\n",
    "\n",
    "model_dnn.fit(X_train, y_train, epochs=10, batch_size=64, validation_split=0.2, verbose=1)\n",
    "training_time_dpn = time.time() - start_time\n",
    "\n",
    "y_pred_dnn = (model_dnn.predict(X_test) > 0.5).astype(int)\n",
    "\n",
    "print(\"Deep Neural Network (DNN)\")\n",
    "print(\"Training Time: \", training_time_dpn)\n",
    "print(\"Accuracy:\", accuracy_score(y_test, y_pred_dnn))\n",
    "print(\"Classification Report:\\n\", classification_report(y_test, y_pred_dnn))\n"
   ]
  },
  {
   "cell_type": "code",
   "execution_count": 29,
   "metadata": {},
   "outputs": [
    {
     "name": "stdout",
     "output_type": "stream",
     "text": [
      "Epoch 1/10\n"
     ]
    },
    {
     "name": "stderr",
     "output_type": "stream",
     "text": [
      "c:\\Users\\pc\\AppData\\Local\\Programs\\Python\\Python312\\Lib\\site-packages\\keras\\src\\layers\\convolutional\\base_conv.py:107: UserWarning: Do not pass an `input_shape`/`input_dim` argument to a layer. When using Sequential models, prefer using an `Input(shape)` object as the first layer in the model instead.\n",
      "  super().__init__(activity_regularizer=activity_regularizer, **kwargs)\n"
     ]
    },
    {
     "name": "stdout",
     "output_type": "stream",
     "text": [
      "\u001b[1m11771/11771\u001b[0m \u001b[32m━━━━━━━━━━━━━━━━━━━━\u001b[0m\u001b[37m\u001b[0m \u001b[1m63s\u001b[0m 5ms/step - accuracy: 0.9747 - loss: 0.0768 - val_accuracy: 0.9932 - val_loss: 0.0348\n",
      "Epoch 2/10\n",
      "\u001b[1m11771/11771\u001b[0m \u001b[32m━━━━━━━━━━━━━━━━━━━━\u001b[0m\u001b[37m\u001b[0m \u001b[1m59s\u001b[0m 5ms/step - accuracy: 0.9932 - loss: 0.0353 - val_accuracy: 0.9924 - val_loss: 0.0360\n",
      "Epoch 3/10\n",
      "\u001b[1m11771/11771\u001b[0m \u001b[32m━━━━━━━━━━━━━━━━━━━━\u001b[0m\u001b[37m\u001b[0m \u001b[1m61s\u001b[0m 5ms/step - accuracy: 0.9937 - loss: 0.0326 - val_accuracy: 0.9941 - val_loss: 0.0270\n",
      "Epoch 4/10\n",
      "\u001b[1m11771/11771\u001b[0m \u001b[32m━━━━━━━━━━━━━━━━━━━━\u001b[0m\u001b[37m\u001b[0m \u001b[1m62s\u001b[0m 5ms/step - accuracy: 0.9944 - loss: 0.0267 - val_accuracy: 0.9960 - val_loss: 0.0225\n",
      "Epoch 5/10\n",
      "\u001b[1m11771/11771\u001b[0m \u001b[32m━━━━━━━━━━━━━━━━━━━━\u001b[0m\u001b[37m\u001b[0m \u001b[1m64s\u001b[0m 5ms/step - accuracy: 0.9956 - loss: 0.0235 - val_accuracy: 0.9964 - val_loss: 0.0200\n",
      "Epoch 6/10\n",
      "\u001b[1m11771/11771\u001b[0m \u001b[32m━━━━━━━━━━━━━━━━━━━━\u001b[0m\u001b[37m\u001b[0m \u001b[1m63s\u001b[0m 5ms/step - accuracy: 0.9960 - loss: 0.0216 - val_accuracy: 0.9963 - val_loss: 0.0199\n",
      "Epoch 7/10\n",
      "\u001b[1m11771/11771\u001b[0m \u001b[32m━━━━━━━━━━━━━━━━━━━━\u001b[0m\u001b[37m\u001b[0m \u001b[1m61s\u001b[0m 5ms/step - accuracy: 0.9962 - loss: 0.0205 - val_accuracy: 0.9965 - val_loss: 0.0188\n",
      "Epoch 8/10\n",
      "\u001b[1m11771/11771\u001b[0m \u001b[32m━━━━━━━━━━━━━━━━━━━━\u001b[0m\u001b[37m\u001b[0m \u001b[1m62s\u001b[0m 5ms/step - accuracy: 0.9964 - loss: 0.0189 - val_accuracy: 0.9965 - val_loss: 0.0177\n",
      "Epoch 9/10\n",
      "\u001b[1m11771/11771\u001b[0m \u001b[32m━━━━━━━━━━━━━━━━━━━━\u001b[0m\u001b[37m\u001b[0m \u001b[1m61s\u001b[0m 5ms/step - accuracy: 0.9964 - loss: 0.0189 - val_accuracy: 0.9964 - val_loss: 0.0173\n",
      "Epoch 10/10\n",
      "\u001b[1m11771/11771\u001b[0m \u001b[32m━━━━━━━━━━━━━━━━━━━━\u001b[0m\u001b[37m\u001b[0m \u001b[1m62s\u001b[0m 5ms/step - accuracy: 0.9969 - loss: 0.0150 - val_accuracy: 0.9979 - val_loss: 0.0112\n",
      "\u001b[1m7357/7357\u001b[0m \u001b[32m━━━━━━━━━━━━━━━━━━━━\u001b[0m\u001b[37m\u001b[0m \u001b[1m15s\u001b[0m 2ms/step\n",
      "CNN-LSTM\n",
      "Training Time:  618.3053176403046\n",
      "Accuracy: 0.9978251265844292\n",
      "Classification Report:\n",
      "               precision    recall  f1-score   support\n",
      "\n",
      "           0       1.00      0.99      1.00     95470\n",
      "           1       1.00      1.00      1.00    139946\n",
      "\n",
      "    accuracy                           1.00    235416\n",
      "   macro avg       1.00      1.00      1.00    235416\n",
      "weighted avg       1.00      1.00      1.00    235416\n",
      "\n"
     ]
    }
   ],
   "source": [
    "X_train_reshaped = np.expand_dims(X_train, axis=-1) \n",
    "X_test_reshaped = np.expand_dims(X_test, axis=-1)\n",
    "start_time = time.time()\n",
    "\n",
    "model_cnn_lstm = Sequential([\n",
    "    Conv1D(64, kernel_size=3, activation='relu', input_shape=(X_train_reshaped.shape[1], 1)),\n",
    "    MaxPooling1D(pool_size=2),\n",
    "    LSTM(50, return_sequences=False), \n",
    "    Dropout(0.3),\n",
    "    Dense(1, activation='sigmoid') \n",
    "])\n",
    "\n",
    "model_cnn_lstm.compile(optimizer='adam', loss='binary_crossentropy', metrics=['accuracy'])\n",
    "\n",
    "\n",
    "# early_stopping = EarlyStopping(monitor='val_loss', patience=3, restore_best_weights=True)\n",
    "# model_cnn_lstm.fit(X_train, y_train, epochs=50, batch_size=64, validation_split=0.2, verbose=1, callbacks=[early_stopping])\n",
    "\n",
    "model_cnn_lstm.fit(X_train_reshaped, y_train, epochs=10, batch_size=64, validation_split=0.2, verbose=1)\n",
    "training_time_cnnn = time.time() - start_time\n",
    "\n",
    "y_pred_cnn_lstm = (model_cnn_lstm.predict(X_test_reshaped) > 0.5).astype(int)\n",
    "\n",
    "print(\"CNN-LSTM\")\n",
    "print(\"Training Time: \", training_time_cnnn)\n",
    "print(\"Accuracy:\", accuracy_score(y_test, y_pred_cnn_lstm))\n",
    "print(\"Classification Report:\\n\", classification_report(y_test, y_pred_cnn_lstm))\n"
   ]
  },
  {
   "cell_type": "code",
   "execution_count": 30,
   "metadata": {},
   "outputs": [
    {
     "data": {
      "image/png": "[encoded data removed]",
      "text/plain": [
       "<Figure size 1200x600 with 1 Axes>"
      ]
     },
     "metadata": {},
     "output_type": "display_data"
    }
   ],
   "source": [
    "training_times = {\n",
    "    \"Random Forest\": training_time_rf,\n",
    "    \"Logistic Regression\": training_time_lr,\n",
    "    \"AdaBoost\": training_time_ab,\n",
    "    \"SGD Classifier\": training_time_sgd,\n",
    "    \"SVM\": training_time_svm,\n",
    "    \"Neural Network (MLP)\": training_time_mlp,\n",
    "    \"Deep Neural Network (DNN)\": training_time_dp,\n",
    "    \"CNN-LSTM\": training_time_cnn,\n",
    "    \"Gradient Boosting\": training_time_gb\n",
    "}\n",
    "\n",
    "training_timesn = {\n",
    "    \"Random Forest\": training_time_rfn,\n",
    "    \"Logistic Regression\": training_time_lrn,\n",
    "    \"AdaBoost\": training_time_abn,\n",
    "    \"SGD Classifier\": training_time_sgdn,\n",
    "    \"SVM\": training_time_svmn,\n",
    "    \"Neural Network (MLP)\": training_time_mlpn,\n",
    "    \"Deep Neural Network (DNN)\": training_time_dpn,\n",
    "    \"CNN-LSTM\": training_time_cnnn,\n",
    "    \"Gradient Boosting\": training_time_gbn\n",
    "}\n",
    "\n",
    "sorted_training_times = dict(sorted(training_times.items(), key=lambda x: x[1]))\n",
    "sorted_training_timesn = {model: training_timesn[model] for model in sorted_training_times.keys()}\n",
    "\n",
    "models = list(sorted_training_times.keys())\n",
    "times_without_norm = list(sorted_training_times.values())\n",
    "times_with_norm = list(sorted_training_timesn.values())\n",
    "\n",
    "plt.figure(figsize=(12, 6))\n",
    "\n",
    "plt.plot(models, times_without_norm, marker='o', linestyle='-', label='Without Normalization', color='skyblue')\n",
    "plt.plot(models, times_with_norm, marker='o', linestyle='--', label='With Normalization', color='orange')\n",
    "\n",
    "plt.xticks(rotation=45, ha='right')\n",
    "plt.xlabel(\"Models\")\n",
    "plt.ylabel(\"Training Time (seconds)\")\n",
    "plt.title(\"Comparison of Training Times: With and Without Normalization\")\n",
    "plt.legend()\n",
    "plt.tight_layout()\n",
    "\n",
    "for i, (time_wn, time_n) in enumerate(zip(times_without_norm, times_with_norm)):\n",
    "    plt.text(i, time_wn, f'{time_wn:.3f}', ha='center', va='bottom', fontsize=9, color='blue')\n",
    "    plt.text(i, time_n, f'{time_n:.3f}', ha='center', va='top', fontsize=9, color='orange')\n",
    "\n",
    "plt.show()\n"
   ]
  },
  {
   "cell_type": "code",
   "execution_count": 31,
   "metadata": {},
   "outputs": [
    {
     "name": "stderr",
     "output_type": "stream",
     "text": [
      "c:\\Users\\pc\\AppData\\Local\\Programs\\Python\\Python312\\Lib\\site-packages\\sklearn\\feature_selection\\_univariate_selection.py:112: UserWarning: Features [12 13] are constant.\n",
      "  warnings.warn(\"Features %s are constant.\" % constant_features_idx, UserWarning)\n",
      "c:\\Users\\pc\\AppData\\Local\\Programs\\Python\\Python312\\Lib\\site-packages\\sklearn\\feature_selection\\_univariate_selection.py:113: RuntimeWarning: invalid value encountered in divide\n",
      "  f = msb / msw\n"
     ]
    }
   ],
   "source": [
    "from sklearn.feature_selection import SelectKBest, f_classif\n",
    "\n",
    "selector = SelectKBest(score_func=f_classif, k=15)\n",
    "X_selected = selector.fit_transform(X_scaled, y)\n",
    "\n",
    "X_train, X_test, y_train, y_test = train_test_split(X_selected, y, test_size=0.2, random_state=42)\n",
    "\n",
    "smote = SMOTE(random_state=42)\n",
    "X_train, y_train = smote.fit_resample(X_train, y_train)"
   ]
  },
  {
   "cell_type": "code",
   "execution_count": 32,
   "metadata": {},
   "outputs": [
    {
     "name": "stdout",
     "output_type": "stream",
     "text": [
      "Random Forest\n",
      "Training Time:  87.44969701766968\n",
      "Accuracy: 0.9945415774628742\n",
      "Classification Report:\n",
      "               precision    recall  f1-score   support\n",
      "\n",
      "           0       1.00      0.99      0.99     95470\n",
      "           1       0.99      1.00      1.00    139946\n",
      "\n",
      "    accuracy                           0.99    235416\n",
      "   macro avg       1.00      0.99      0.99    235416\n",
      "weighted avg       0.99      0.99      0.99    235416\n",
      "\n"
     ]
    }
   ],
   "source": [
    "import time\n",
    "start_time = time.time()\n",
    "model_rf = RandomForestClassifier(random_state=42, n_estimators=50, max_depth=10, max_features='sqrt')\n",
    "model_rf.fit(X_train, y_train)\n",
    "training_time_rfn = time.time() - start_time\n",
    "y_pred_rf = model_rf.predict(X_test)\n",
    "\n",
    "print(\"Random Forest\")\n",
    "print(\"Training Time: \", training_time_rfn)\n",
    "print(\"Accuracy:\", accuracy_score(y_test, y_pred_rf))\n",
    "print(\"Classification Report:\\n\", classification_report(y_test, y_pred_rf))"
   ]
  },
  {
   "cell_type": "code",
   "execution_count": 33,
   "metadata": {},
   "outputs": [
    {
     "name": "stdout",
     "output_type": "stream",
     "text": [
      "Logistic Regression\n",
      "Training Time:  7.829632043838501\n",
      "Accuracy: 0.9498632208515989\n",
      "Classification Report:\n",
      "               precision    recall  f1-score   support\n",
      "\n",
      "           0       0.95      0.93      0.94     95470\n",
      "           1       0.95      0.96      0.96    139946\n",
      "\n",
      "    accuracy                           0.95    235416\n",
      "   macro avg       0.95      0.95      0.95    235416\n",
      "weighted avg       0.95      0.95      0.95    235416\n",
      "\n"
     ]
    }
   ],
   "source": [
    "start_time = time.time()\n",
    "model_lr = LogisticRegression(solver='liblinear')\n",
    "model_lr.fit(X_train, y_train)\n",
    "training_time_lr = time.time() - start_time\n",
    "y_pred_lr = model_lr.predict(X_test)\n",
    "\n",
    "print(\"Logistic Regression\")\n",
    "print(\"Training Time: \", training_time_lr)\n",
    "print(\"Accuracy:\", accuracy_score(y_test, y_pred_lr))\n",
    "print(\"Classification Report:\\n\", classification_report(y_test, y_pred_lr))"
   ]
  },
  {
   "cell_type": "code",
   "execution_count": 34,
   "metadata": {},
   "outputs": [
    {
     "name": "stderr",
     "output_type": "stream",
     "text": [
      "c:\\Users\\pc\\AppData\\Local\\Programs\\Python\\Python312\\Lib\\site-packages\\sklearn\\ensemble\\_weight_boosting.py:527: FutureWarning: The SAMME.R algorithm (the default) is deprecated and will be removed in 1.6. Use the SAMME algorithm to circumvent this warning.\n",
      "  warnings.warn(\n"
     ]
    },
    {
     "name": "stdout",
     "output_type": "stream",
     "text": [
      "AdaBoost\n",
      "Training Time:  82.04076671600342\n",
      "Accuracy: 0.9953359159955143\n",
      "Classification Report:\n",
      "               precision    recall  f1-score   support\n",
      "\n",
      "           0       1.00      0.99      0.99     95470\n",
      "           1       0.99      1.00      1.00    139946\n",
      "\n",
      "    accuracy                           1.00    235416\n",
      "   macro avg       1.00      0.99      1.00    235416\n",
      "weighted avg       1.00      1.00      1.00    235416\n",
      "\n"
     ]
    }
   ],
   "source": [
    "start_time = time.time()\n",
    "model_ab = AdaBoostClassifier(random_state=42)\n",
    "model_ab.fit(X_train, y_train)\n",
    "training_time_ab = time.time() - start_time\n",
    "y_pred_ab = model_ab.predict(X_test)\n",
    "\n",
    "print(\"AdaBoost\")\n",
    "print(\"Training Time: \", training_time_ab)\n",
    "print(\"Accuracy:\", accuracy_score(y_test, y_pred_ab))\n",
    "print(\"Classification Report:\\n\", classification_report(y_test, y_pred_ab))"
   ]
  },
  {
   "cell_type": "code",
   "execution_count": 35,
   "metadata": {},
   "outputs": [
    {
     "name": "stdout",
     "output_type": "stream",
     "text": [
      "SGD Classifier\n",
      "Training Time:  1.6783967018127441\n",
      "Accuracy: 0.9558016447480205\n",
      "Classification Report:\n",
      "               precision    recall  f1-score   support\n",
      "\n",
      "           0       0.94      0.95      0.95     95470\n",
      "           1       0.96      0.96      0.96    139946\n",
      "\n",
      "    accuracy                           0.96    235416\n",
      "   macro avg       0.95      0.95      0.95    235416\n",
      "weighted avg       0.96      0.96      0.96    235416\n",
      "\n"
     ]
    }
   ],
   "source": [
    "start_time = time.time()\n",
    "model_sgd = SGDClassifier(random_state=42)\n",
    "model_sgd.fit(X_train, y_train)\n",
    "training_time_sgd = time.time() - start_time\n",
    "y_pred_sgd = model_sgd.predict(X_test)\n",
    "\n",
    "print(\"SGD Classifier\")\n",
    "print(\"Training Time: \", training_time_sgd)\n",
    "print(\"Accuracy:\", accuracy_score(y_test, y_pred_sgd))\n",
    "print(\"Classification Report:\\n\", classification_report(y_test, y_pred_sgd))"
   ]
  },
  {
   "cell_type": "code",
   "execution_count": 36,
   "metadata": {},
   "outputs": [
    {
     "name": "stdout",
     "output_type": "stream",
     "text": [
      "SVM\n",
      "Training Time:  2.012258529663086\n",
      "Accuracy: 0.9866916437285486\n",
      "Classification Report:\n",
      "               precision    recall  f1-score   support\n",
      "\n",
      "           0       1.00      0.97      0.98     95470\n",
      "           1       0.98      1.00      0.99    139946\n",
      "\n",
      "    accuracy                           0.99    235416\n",
      "   macro avg       0.99      0.98      0.99    235416\n",
      "weighted avg       0.99      0.99      0.99    235416\n",
      "\n"
     ]
    }
   ],
   "source": [
    "X_train_sample = X_train[:10000]\n",
    "y_train_sample = y_train[:10000]\n",
    "\n",
    "start_time = time.time()\n",
    "model_svm = SVC(random_state=42, probability=True)\n",
    "model_svm.fit(X_train_sample, y_train_sample)\n",
    "training_time_svm = time.time() - start_time\n",
    "y_pred_svm = model_svm.predict(X_test)\n",
    "\n",
    "print(\"SVM\")\n",
    "print(\"Training Time: \", training_time_svm)\n",
    "print(\"Accuracy:\", accuracy_score(y_test, y_pred_svm))\n",
    "print(\"Classification Report:\\n\", classification_report(y_test, y_pred_svm))"
   ]
  },
  {
   "cell_type": "code",
   "execution_count": 37,
   "metadata": {},
   "outputs": [
    {
     "name": "stdout",
     "output_type": "stream",
     "text": [
      "Gradient Boosting\n",
      "Training Time:  316.62346291542053\n",
      "Accuracy: 0.9998810616100859\n",
      "Classification Report:\n",
      "               precision    recall  f1-score   support\n",
      "\n",
      "           0       1.00      1.00      1.00     95470\n",
      "           1       1.00      1.00      1.00    139946\n",
      "\n",
      "    accuracy                           1.00    235416\n",
      "   macro avg       1.00      1.00      1.00    235416\n",
      "weighted avg       1.00      1.00      1.00    235416\n",
      "\n"
     ]
    }
   ],
   "source": [
    "start_time = time.time()\n",
    "model_gb = GradientBoostingClassifier(random_state=42)\n",
    "model_gb.fit(X_train, y_train)\n",
    "training_time_gb = time.time() - start_time\n",
    "y_pred_gb = model_gb.predict(X_test)\n",
    "\n",
    "print(\"Gradient Boosting\")\n",
    "print(\"Training Time: \", training_time_gb)\n",
    "print(\"Accuracy:\", accuracy_score(y_test, y_pred_gb))\n",
    "print(\"Classification Report:\\n\", classification_report(y_test, y_pred_gb))"
   ]
  },
  {
   "cell_type": "code",
   "execution_count": 38,
   "metadata": {},
   "outputs": [
    {
     "name": "stdout",
     "output_type": "stream",
     "text": [
      "Neural Network (MLP)\n",
      "Training Time:  502.9044370651245\n",
      "Accuracy: 0.9967291942773643\n",
      "Classification Report:\n",
      "               precision    recall  f1-score   support\n",
      "\n",
      "           0       1.00      0.99      1.00     95470\n",
      "           1       0.99      1.00      1.00    139946\n",
      "\n",
      "    accuracy                           1.00    235416\n",
      "   macro avg       1.00      1.00      1.00    235416\n",
      "weighted avg       1.00      1.00      1.00    235416\n",
      "\n"
     ]
    }
   ],
   "source": [
    "start_time = time.time()\n",
    "model_mlp = MLPClassifier(hidden_layer_sizes=(128,), random_state=42, max_iter=300)\n",
    "model_mlp.fit(X_train, y_train)\n",
    "training_time_mlp = time.time() - start_time\n",
    "y_pred_mlp = model_mlp.predict(X_test)\n",
    "\n",
    "print(\"Neural Network (MLP)\")\n",
    "print(\"Training Time: \", training_time_mlp)\n",
    "print(\"Accuracy:\", accuracy_score(y_test, y_pred_mlp))\n",
    "print(\"Classification Report:\\n\", classification_report(y_test, y_pred_mlp))"
   ]
  },
  {
   "cell_type": "code",
   "execution_count": 39,
   "metadata": {},
   "outputs": [
    {
     "name": "stdout",
     "output_type": "stream",
     "text": [
      "Epoch 1/10\n"
     ]
    },
    {
     "name": "stderr",
     "output_type": "stream",
     "text": [
      "c:\\Users\\pc\\AppData\\Local\\Programs\\Python\\Python312\\Lib\\site-packages\\keras\\src\\layers\\core\\dense.py:87: UserWarning: Do not pass an `input_shape`/`input_dim` argument to a layer. When using Sequential models, prefer using an `Input(shape)` object as the first layer in the model instead.\n",
      "  super().__init__(activity_regularizer=activity_regularizer, **kwargs)\n"
     ]
    },
    {
     "name": "stdout",
     "output_type": "stream",
     "text": [
      "\u001b[1m13983/13983\u001b[0m \u001b[32m━━━━━━━━━━━━━━━━━━━━\u001b[0m\u001b[37m\u001b[0m \u001b[1m22s\u001b[0m 1ms/step - accuracy: 0.9852 - loss: 0.0600 - val_accuracy: 0.9863 - val_loss: 0.0603\n",
      "Epoch 2/10\n",
      "\u001b[1m13983/13983\u001b[0m \u001b[32m━━━━━━━━━━━━━━━━━━━━\u001b[0m\u001b[37m\u001b[0m \u001b[1m20s\u001b[0m 1ms/step - accuracy: 0.9935 - loss: 0.0326 - val_accuracy: 0.9870 - val_loss: 0.0486\n",
      "Epoch 3/10\n",
      "\u001b[1m13983/13983\u001b[0m \u001b[32m━━━━━━━━━━━━━━━━━━━━\u001b[0m\u001b[37m\u001b[0m \u001b[1m20s\u001b[0m 1ms/step - accuracy: 0.9935 - loss: 0.0293 - val_accuracy: 0.9864 - val_loss: 0.0492\n",
      "Epoch 4/10\n",
      "\u001b[1m13983/13983\u001b[0m \u001b[32m━━━━━━━━━━━━━━━━━━━━\u001b[0m\u001b[37m\u001b[0m \u001b[1m20s\u001b[0m 1ms/step - accuracy: 0.9935 - loss: 0.0276 - val_accuracy: 0.9874 - val_loss: 0.0406\n",
      "Epoch 5/10\n",
      "\u001b[1m13983/13983\u001b[0m \u001b[32m━━━━━━━━━━━━━━━━━━━━\u001b[0m\u001b[37m\u001b[0m \u001b[1m20s\u001b[0m 1ms/step - accuracy: 0.9939 - loss: 0.0261 - val_accuracy: 0.9888 - val_loss: 0.0449\n",
      "Epoch 6/10\n",
      "\u001b[1m13983/13983\u001b[0m \u001b[32m━━━━━━━━━━━━━━━━━━━━\u001b[0m\u001b[37m\u001b[0m \u001b[1m20s\u001b[0m 1ms/step - accuracy: 0.9949 - loss: 0.0251 - val_accuracy: 0.9915 - val_loss: 0.0366\n",
      "Epoch 7/10\n",
      "\u001b[1m13983/13983\u001b[0m \u001b[32m━━━━━━━━━━━━━━━━━━━━\u001b[0m\u001b[37m\u001b[0m \u001b[1m19s\u001b[0m 1ms/step - accuracy: 0.9954 - loss: 0.0240 - val_accuracy: 0.9916 - val_loss: 0.0367\n",
      "Epoch 8/10\n",
      "\u001b[1m13983/13983\u001b[0m \u001b[32m━━━━━━━━━━━━━━━━━━━━\u001b[0m\u001b[37m\u001b[0m \u001b[1m19s\u001b[0m 1ms/step - accuracy: 0.9952 - loss: 0.0245 - val_accuracy: 0.9911 - val_loss: 0.0383\n",
      "Epoch 9/10\n",
      "\u001b[1m13983/13983\u001b[0m \u001b[32m━━━━━━━━━━━━━━━━━━━━\u001b[0m\u001b[37m\u001b[0m \u001b[1m18s\u001b[0m 1ms/step - accuracy: 0.9954 - loss: 0.0238 - val_accuracy: 0.9913 - val_loss: 0.0391\n",
      "Epoch 10/10\n",
      "\u001b[1m13983/13983\u001b[0m \u001b[32m━━━━━━━━━━━━━━━━━━━━\u001b[0m\u001b[37m\u001b[0m \u001b[1m18s\u001b[0m 1ms/step - accuracy: 0.9955 - loss: 0.0233 - val_accuracy: 0.9917 - val_loss: 0.0367\n",
      "\u001b[1m7357/7357\u001b[0m \u001b[32m━━━━━━━━━━━━━━━━━━━━\u001b[0m\u001b[37m\u001b[0m \u001b[1m5s\u001b[0m 644us/step\n",
      "Deep Neural Network (DNN)\n",
      "Training Time:  195.6371304988861\n",
      "Accuracy: 0.9960920243313963\n",
      "Classification Report:\n",
      "               precision    recall  f1-score   support\n",
      "\n",
      "           0       1.00      0.99      1.00     95470\n",
      "           1       0.99      1.00      1.00    139946\n",
      "\n",
      "    accuracy                           1.00    235416\n",
      "   macro avg       1.00      1.00      1.00    235416\n",
      "weighted avg       1.00      1.00      1.00    235416\n",
      "\n"
     ]
    }
   ],
   "source": [
    "start_time = time.time()\n",
    "\n",
    "model_dnn = Sequential([\n",
    "    Dense(128, activation='relu', input_shape=(X_train.shape[1],)),\n",
    "    Dropout(0.3),\n",
    "    Dense(64, activation='relu'),\n",
    "    Dropout(0.3),\n",
    "    Dense(1, activation='sigmoid') \n",
    "])\n",
    "\n",
    "model_dnn.compile(optimizer='adam', loss='binary_crossentropy', metrics=['accuracy'])\n",
    "\n",
    "model_dnn.fit(X_train, y_train, epochs=10, batch_size=64, validation_split=0.2, verbose=1)\n",
    "training_time_dp = time.time() - start_time\n",
    "\n",
    "y_pred_dnn = (model_dnn.predict(X_test) > 0.5).astype(int)\n",
    "\n",
    "print(\"Deep Neural Network (DNN)\")\n",
    "print(\"Training Time: \", training_time_dp)\n",
    "print(\"Accuracy:\", accuracy_score(y_test, y_pred_dnn))\n",
    "print(\"Classification Report:\\n\", classification_report(y_test, y_pred_dnn))"
   ]
  },
  {
   "cell_type": "code",
   "execution_count": 40,
   "metadata": {},
   "outputs": [
    {
     "name": "stdout",
     "output_type": "stream",
     "text": [
      "Epoch 1/10\n"
     ]
    },
    {
     "name": "stderr",
     "output_type": "stream",
     "text": [
      "c:\\Users\\pc\\AppData\\Local\\Programs\\Python\\Python312\\Lib\\site-packages\\keras\\src\\layers\\convolutional\\base_conv.py:107: UserWarning: Do not pass an `input_shape`/`input_dim` argument to a layer. When using Sequential models, prefer using an `Input(shape)` object as the first layer in the model instead.\n",
      "  super().__init__(activity_regularizer=activity_regularizer, **kwargs)\n"
     ]
    },
    {
     "name": "stdout",
     "output_type": "stream",
     "text": [
      "\u001b[1m13983/13983\u001b[0m \u001b[32m━━━━━━━━━━━━━━━━━━━━\u001b[0m\u001b[37m\u001b[0m \u001b[1m62s\u001b[0m 4ms/step - accuracy: 0.9796 - loss: 0.0646 - val_accuracy: 0.9869 - val_loss: 0.0599\n",
      "Epoch 2/10\n",
      "\u001b[1m13983/13983\u001b[0m \u001b[32m━━━━━━━━━━━━━━━━━━━━\u001b[0m\u001b[37m\u001b[0m \u001b[1m59s\u001b[0m 4ms/step - accuracy: 0.9938 - loss: 0.0321 - val_accuracy: 0.9877 - val_loss: 0.0467\n",
      "Epoch 3/10\n",
      "\u001b[1m13983/13983\u001b[0m \u001b[32m━━━━━━━━━━━━━━━━━━━━\u001b[0m\u001b[37m\u001b[0m \u001b[1m58s\u001b[0m 4ms/step - accuracy: 0.9953 - loss: 0.0235 - val_accuracy: 0.9914 - val_loss: 0.0390\n",
      "Epoch 4/10\n",
      "\u001b[1m13983/13983\u001b[0m \u001b[32m━━━━━━━━━━━━━━━━━━━━\u001b[0m\u001b[37m\u001b[0m \u001b[1m60s\u001b[0m 4ms/step - accuracy: 0.9962 - loss: 0.0211 - val_accuracy: 0.9927 - val_loss: 0.0337\n",
      "Epoch 5/10\n",
      "\u001b[1m13983/13983\u001b[0m \u001b[32m━━━━━━━━━━━━━━━━━━━━\u001b[0m\u001b[37m\u001b[0m \u001b[1m60s\u001b[0m 4ms/step - accuracy: 0.9963 - loss: 0.0204 - val_accuracy: 0.9933 - val_loss: 0.0278\n",
      "Epoch 6/10\n",
      "\u001b[1m13983/13983\u001b[0m \u001b[32m━━━━━━━━━━━━━━━━━━━━\u001b[0m\u001b[37m\u001b[0m \u001b[1m62s\u001b[0m 4ms/step - accuracy: 0.9973 - loss: 0.0144 - val_accuracy: 0.9938 - val_loss: 0.0284\n",
      "Epoch 7/10\n",
      "\u001b[1m13983/13983\u001b[0m \u001b[32m━━━━━━━━━━━━━━━━━━━━\u001b[0m\u001b[37m\u001b[0m \u001b[1m62s\u001b[0m 4ms/step - accuracy: 0.9975 - loss: 0.0138 - val_accuracy: 0.9959 - val_loss: 0.0168\n",
      "Epoch 8/10\n",
      "\u001b[1m13983/13983\u001b[0m \u001b[32m━━━━━━━━━━━━━━━━━━━━\u001b[0m\u001b[37m\u001b[0m \u001b[1m62s\u001b[0m 4ms/step - accuracy: 0.9978 - loss: 0.0121 - val_accuracy: 0.9969 - val_loss: 0.0144\n",
      "Epoch 9/10\n",
      "\u001b[1m13983/13983\u001b[0m \u001b[32m━━━━━━━━━━━━━━━━━━━━\u001b[0m\u001b[37m\u001b[0m \u001b[1m62s\u001b[0m 4ms/step - accuracy: 0.9981 - loss: 0.0102 - val_accuracy: 0.9969 - val_loss: 0.0144\n",
      "Epoch 10/10\n",
      "\u001b[1m13983/13983\u001b[0m \u001b[32m━━━━━━━━━━━━━━━━━━━━\u001b[0m\u001b[37m\u001b[0m \u001b[1m61s\u001b[0m 4ms/step - accuracy: 0.9981 - loss: 0.0103 - val_accuracy: 0.9967 - val_loss: 0.0159\n",
      "\u001b[1m7357/7357\u001b[0m \u001b[32m━━━━━━━━━━━━━━━━━━━━\u001b[0m\u001b[37m\u001b[0m \u001b[1m13s\u001b[0m 2ms/step\n",
      "CNN-LSTM\n",
      "Training Time:  605.1324563026428\n",
      "Accuracy: 0.9984198185339994\n",
      "Classification Report:\n",
      "               precision    recall  f1-score   support\n",
      "\n",
      "           0       1.00      1.00      1.00     95470\n",
      "           1       1.00      1.00      1.00    139946\n",
      "\n",
      "    accuracy                           1.00    235416\n",
      "   macro avg       1.00      1.00      1.00    235416\n",
      "weighted avg       1.00      1.00      1.00    235416\n",
      "\n"
     ]
    }
   ],
   "source": [
    "X_train_reshaped = np.expand_dims(X_train, axis=-1) \n",
    "X_test_reshaped = np.expand_dims(X_test, axis=-1)\n",
    "start_time = time.time()\n",
    "\n",
    "model_cnn_lstm = Sequential([\n",
    "    Conv1D(64, kernel_size=3, activation='relu', input_shape=(X_train_reshaped.shape[1], 1)),\n",
    "    MaxPooling1D(pool_size=2),\n",
    "    LSTM(50, return_sequences=False), \n",
    "    Dropout(0.3),\n",
    "    Dense(1, activation='sigmoid') \n",
    "])\n",
    "\n",
    "model_cnn_lstm.compile(optimizer='adam', loss='binary_crossentropy', metrics=['accuracy'])\n",
    "\n",
    "model_cnn_lstm.fit(X_train_reshaped, y_train, epochs=10, batch_size=64, validation_split=0.2, verbose=1)\n",
    "training_time_cnn = time.time() - start_time\n",
    "\n",
    "y_pred_cnn_lstm = (model_cnn_lstm.predict(X_test_reshaped) > 0.5).astype(int)\n",
    "\n",
    "print(\"CNN-LSTM\")\n",
    "print(\"Training Time: \", training_time_cnn)\n",
    "print(\"Accuracy:\", accuracy_score(y_test, y_pred_cnn_lstm))\n",
    "print(\"Classification Report:\\n\", classification_report(y_test, y_pred_cnn_lstm))"
   ]
  },
  {
   "cell_type": "code",
   "execution_count": 41,
   "metadata": {},
   "outputs": [],
   "source": [
    "from sklearn.decomposition import PCA\n",
    "pca = PCA(n_components=15)\n",
    "X_pca = pca.fit_transform(X_scaled)\n",
    "\n",
    "X_train, X_test, y_train, y_test = train_test_split(X_pca, y, test_size=0.2, random_state=42)\n",
    "\n",
    "smote = SMOTE(random_state=42)\n",
    "X_train, y_train = smote.fit_resample(X_train, y_train)"
   ]
  },
  {
   "cell_type": "code",
   "execution_count": 42,
   "metadata": {},
   "outputs": [
    {
     "name": "stdout",
     "output_type": "stream",
     "text": [
      "Random Forest\n",
      "Training Time:  270.7980115413666\n",
      "Accuracy: 0.9927872362116423\n",
      "Classification Report:\n",
      "               precision    recall  f1-score   support\n",
      "\n",
      "           0       1.00      0.98      0.99     95470\n",
      "           1       0.99      1.00      0.99    139946\n",
      "\n",
      "    accuracy                           0.99    235416\n",
      "   macro avg       0.99      0.99      0.99    235416\n",
      "weighted avg       0.99      0.99      0.99    235416\n",
      "\n"
     ]
    }
   ],
   "source": [
    "import time\n",
    "start_time = time.time()\n",
    "model_rf = RandomForestClassifier(random_state=42, n_estimators=50, max_depth=10, max_features='sqrt')\n",
    "model_rf.fit(X_train, y_train)\n",
    "training_time_rfn = time.time() - start_time\n",
    "y_pred_rf = model_rf.predict(X_test)\n",
    "\n",
    "print(\"Random Forest\")\n",
    "print(\"Training Time: \", training_time_rfn)\n",
    "print(\"Accuracy:\", accuracy_score(y_test, y_pred_rf))\n",
    "print(\"Classification Report:\\n\", classification_report(y_test, y_pred_rf))"
   ]
  },
  {
   "cell_type": "code",
   "execution_count": 43,
   "metadata": {},
   "outputs": [
    {
     "name": "stdout",
     "output_type": "stream",
     "text": [
      "Logistic Regression\n",
      "Training Time:  5.904993534088135\n",
      "Accuracy: 0.9495616270771741\n",
      "Classification Report:\n",
      "               precision    recall  f1-score   support\n",
      "\n",
      "           0       0.95      0.93      0.94     95470\n",
      "           1       0.95      0.96      0.96    139946\n",
      "\n",
      "    accuracy                           0.95    235416\n",
      "   macro avg       0.95      0.95      0.95    235416\n",
      "weighted avg       0.95      0.95      0.95    235416\n",
      "\n"
     ]
    }
   ],
   "source": [
    "start_time = time.time()\n",
    "model_lr = LogisticRegression(solver='liblinear')\n",
    "model_lr.fit(X_train, y_train)\n",
    "training_time_lr = time.time() - start_time\n",
    "y_pred_lr = model_lr.predict(X_test)\n",
    "\n",
    "print(\"Logistic Regression\")\n",
    "print(\"Training Time: \", training_time_lr)\n",
    "print(\"Accuracy:\", accuracy_score(y_test, y_pred_lr))\n",
    "print(\"Classification Report:\\n\", classification_report(y_test, y_pred_lr))"
   ]
  },
  {
   "cell_type": "code",
   "execution_count": 44,
   "metadata": {},
   "outputs": [
    {
     "name": "stderr",
     "output_type": "stream",
     "text": [
      "c:\\Users\\pc\\AppData\\Local\\Programs\\Python\\Python312\\Lib\\site-packages\\sklearn\\ensemble\\_weight_boosting.py:527: FutureWarning: The SAMME.R algorithm (the default) is deprecated and will be removed in 1.6. Use the SAMME algorithm to circumvent this warning.\n",
      "  warnings.warn(\n"
     ]
    },
    {
     "name": "stdout",
     "output_type": "stream",
     "text": [
      "AdaBoost\n",
      "Training Time:  247.20595574378967\n",
      "Accuracy: 0.9870442110986509\n",
      "Classification Report:\n",
      "               precision    recall  f1-score   support\n",
      "\n",
      "           0       1.00      0.97      0.98     95470\n",
      "           1       0.98      1.00      0.99    139946\n",
      "\n",
      "    accuracy                           0.99    235416\n",
      "   macro avg       0.99      0.98      0.99    235416\n",
      "weighted avg       0.99      0.99      0.99    235416\n",
      "\n"
     ]
    }
   ],
   "source": [
    "start_time = time.time()\n",
    "model_ab = AdaBoostClassifier(random_state=42)\n",
    "model_ab.fit(X_train, y_train)\n",
    "training_time_ab = time.time() - start_time\n",
    "y_pred_ab = model_ab.predict(X_test)\n",
    "\n",
    "print(\"AdaBoost\")\n",
    "print(\"Training Time: \", training_time_ab)\n",
    "print(\"Accuracy:\", accuracy_score(y_test, y_pred_ab))\n",
    "print(\"Classification Report:\\n\", classification_report(y_test, y_pred_ab))"
   ]
  },
  {
   "cell_type": "code",
   "execution_count": 45,
   "metadata": {},
   "outputs": [
    {
     "name": "stdout",
     "output_type": "stream",
     "text": [
      "SGD Classifier\n",
      "Training Time:  1.804572582244873\n",
      "Accuracy: 0.9545655350528426\n",
      "Classification Report:\n",
      "               precision    recall  f1-score   support\n",
      "\n",
      "           0       0.94      0.94      0.94     95470\n",
      "           1       0.96      0.96      0.96    139946\n",
      "\n",
      "    accuracy                           0.95    235416\n",
      "   macro avg       0.95      0.95      0.95    235416\n",
      "weighted avg       0.95      0.95      0.95    235416\n",
      "\n"
     ]
    }
   ],
   "source": [
    "start_time = time.time()\n",
    "model_sgd = SGDClassifier(random_state=42)\n",
    "model_sgd.fit(X_train, y_train)\n",
    "training_time_sgd = time.time() - start_time\n",
    "y_pred_sgd = model_sgd.predict(X_test)\n",
    "\n",
    "print(\"SGD Classifier\")\n",
    "print(\"Training Time: \", training_time_sgd)\n",
    "print(\"Accuracy:\", accuracy_score(y_test, y_pred_sgd))\n",
    "print(\"Classification Report:\\n\", classification_report(y_test, y_pred_sgd))"
   ]
  },
  {
   "cell_type": "code",
   "execution_count": 46,
   "metadata": {},
   "outputs": [
    {
     "name": "stdout",
     "output_type": "stream",
     "text": [
      "SVM\n",
      "Training Time:  2.5317702293395996\n",
      "Accuracy: 0.9857104020117579\n",
      "Classification Report:\n",
      "               precision    recall  f1-score   support\n",
      "\n",
      "           0       1.00      0.96      0.98     95470\n",
      "           1       0.98      1.00      0.99    139946\n",
      "\n",
      "    accuracy                           0.99    235416\n",
      "   macro avg       0.99      0.98      0.99    235416\n",
      "weighted avg       0.99      0.99      0.99    235416\n",
      "\n"
     ]
    }
   ],
   "source": [
    "X_train_sample = X_train[:10000]\n",
    "y_train_sample = y_train[:10000]\n",
    "\n",
    "start_time = time.time()\n",
    "model_svm = SVC(random_state=42, probability=True)\n",
    "model_svm.fit(X_train_sample, y_train_sample)\n",
    "training_time_svm = time.time() - start_time\n",
    "y_pred_svm = model_svm.predict(X_test)\n",
    "\n",
    "print(\"SVM\")\n",
    "print(\"Training Time: \", training_time_svm)\n",
    "print(\"Accuracy:\", accuracy_score(y_test, y_pred_svm))\n",
    "print(\"Classification Report:\\n\", classification_report(y_test, y_pred_svm))"
   ]
  },
  {
   "cell_type": "code",
   "execution_count": 47,
   "metadata": {},
   "outputs": [
    {
     "name": "stdout",
     "output_type": "stream",
     "text": [
      "Gradient Boosting\n",
      "Training Time:  1245.4412925243378\n",
      "Accuracy: 0.9912792673395181\n",
      "Classification Report:\n",
      "               precision    recall  f1-score   support\n",
      "\n",
      "           0       1.00      0.98      0.99     95470\n",
      "           1       0.99      1.00      0.99    139946\n",
      "\n",
      "    accuracy                           0.99    235416\n",
      "   macro avg       0.99      0.99      0.99    235416\n",
      "weighted avg       0.99      0.99      0.99    235416\n",
      "\n"
     ]
    }
   ],
   "source": [
    "start_time = time.time()\n",
    "model_gb = GradientBoostingClassifier(random_state=42)\n",
    "model_gb.fit(X_train, y_train)\n",
    "training_time_gb = time.time() - start_time\n",
    "y_pred_gb = model_gb.predict(X_test)\n",
    "\n",
    "print(\"Gradient Boosting\")\n",
    "print(\"Training Time: \", training_time_gb)\n",
    "print(\"Accuracy:\", accuracy_score(y_test, y_pred_gb))\n",
    "print(\"Classification Report:\\n\", classification_report(y_test, y_pred_gb))"
   ]
  },
  {
   "cell_type": "code",
   "execution_count": 48,
   "metadata": {},
   "outputs": [
    {
     "name": "stdout",
     "output_type": "stream",
     "text": [
      "Neural Network (MLP)\n",
      "Training Time:  610.1578254699707\n",
      "Accuracy: 0.9966484860842084\n",
      "Classification Report:\n",
      "               precision    recall  f1-score   support\n",
      "\n",
      "           0       1.00      0.99      1.00     95470\n",
      "           1       0.99      1.00      1.00    139946\n",
      "\n",
      "    accuracy                           1.00    235416\n",
      "   macro avg       1.00      1.00      1.00    235416\n",
      "weighted avg       1.00      1.00      1.00    235416\n",
      "\n"
     ]
    }
   ],
   "source": [
    "start_time = time.time()\n",
    "model_mlp = MLPClassifier(hidden_layer_sizes=(128,), random_state=42, max_iter=300)\n",
    "model_mlp.fit(X_train, y_train)\n",
    "training_time_mlp = time.time() - start_time\n",
    "y_pred_mlp = model_mlp.predict(X_test)\n",
    "\n",
    "print(\"Neural Network (MLP)\")\n",
    "print(\"Training Time: \", training_time_mlp)\n",
    "print(\"Accuracy:\", accuracy_score(y_test, y_pred_mlp))\n",
    "print(\"Classification Report:\\n\", classification_report(y_test, y_pred_mlp))"
   ]
  },
  {
   "cell_type": "code",
   "execution_count": 49,
   "metadata": {},
   "outputs": [
    {
     "name": "stdout",
     "output_type": "stream",
     "text": [
      "Epoch 1/10\n"
     ]
    },
    {
     "name": "stderr",
     "output_type": "stream",
     "text": [
      "c:\\Users\\pc\\AppData\\Local\\Programs\\Python\\Python312\\Lib\\site-packages\\keras\\src\\layers\\core\\dense.py:87: UserWarning: Do not pass an `input_shape`/`input_dim` argument to a layer. When using Sequential models, prefer using an `Input(shape)` object as the first layer in the model instead.\n",
      "  super().__init__(activity_regularizer=activity_regularizer, **kwargs)\n"
     ]
    },
    {
     "name": "stdout",
     "output_type": "stream",
     "text": [
      "\u001b[1m13983/13983\u001b[0m \u001b[32m━━━━━━━━━━━━━━━━━━━━\u001b[0m\u001b[37m\u001b[0m \u001b[1m25s\u001b[0m 2ms/step - accuracy: 0.9846 - loss: 0.0612 - val_accuracy: 0.9863 - val_loss: 0.0605\n",
      "Epoch 2/10\n",
      "\u001b[1m13983/13983\u001b[0m \u001b[32m━━━━━━━━━━━━━━━━━━━━\u001b[0m\u001b[37m\u001b[0m \u001b[1m24s\u001b[0m 2ms/step - accuracy: 0.9932 - loss: 0.0331 - val_accuracy: 0.9864 - val_loss: 0.0477\n",
      "Epoch 3/10\n",
      "\u001b[1m13983/13983\u001b[0m \u001b[32m━━━━━━━━━━━━━━━━━━━━\u001b[0m\u001b[37m\u001b[0m \u001b[1m24s\u001b[0m 2ms/step - accuracy: 0.9934 - loss: 0.0306 - val_accuracy: 0.9865 - val_loss: 0.0500\n",
      "Epoch 4/10\n",
      "\u001b[1m13983/13983\u001b[0m \u001b[32m━━━━━━━━━━━━━━━━━━━━\u001b[0m\u001b[37m\u001b[0m \u001b[1m24s\u001b[0m 2ms/step - accuracy: 0.9933 - loss: 0.0295 - val_accuracy: 0.9867 - val_loss: 0.0440\n",
      "Epoch 5/10\n",
      "\u001b[1m13983/13983\u001b[0m \u001b[32m━━━━━━━━━━━━━━━━━━━━\u001b[0m\u001b[37m\u001b[0m \u001b[1m25s\u001b[0m 2ms/step - accuracy: 0.9934 - loss: 0.0281 - val_accuracy: 0.9868 - val_loss: 0.0416\n",
      "Epoch 6/10\n",
      "\u001b[1m13983/13983\u001b[0m \u001b[32m━━━━━━━━━━━━━━━━━━━━\u001b[0m\u001b[37m\u001b[0m \u001b[1m25s\u001b[0m 2ms/step - accuracy: 0.9935 - loss: 0.0269 - val_accuracy: 0.9871 - val_loss: 0.0425\n",
      "Epoch 7/10\n",
      "\u001b[1m13983/13983\u001b[0m \u001b[32m━━━━━━━━━━━━━━━━━━━━\u001b[0m\u001b[37m\u001b[0m \u001b[1m24s\u001b[0m 2ms/step - accuracy: 0.9935 - loss: 0.0264 - val_accuracy: 0.9869 - val_loss: 0.0408\n",
      "Epoch 8/10\n",
      "\u001b[1m13983/13983\u001b[0m \u001b[32m━━━━━━━━━━━━━━━━━━━━\u001b[0m\u001b[37m\u001b[0m \u001b[1m24s\u001b[0m 2ms/step - accuracy: 0.9936 - loss: 0.0263 - val_accuracy: 0.9869 - val_loss: 0.0403\n",
      "Epoch 9/10\n",
      "\u001b[1m13983/13983\u001b[0m \u001b[32m━━━━━━━━━━━━━━━━━━━━\u001b[0m\u001b[37m\u001b[0m \u001b[1m24s\u001b[0m 2ms/step - accuracy: 0.9938 - loss: 0.0253 - val_accuracy: 0.9881 - val_loss: 0.0409\n",
      "Epoch 10/10\n",
      "\u001b[1m13983/13983\u001b[0m \u001b[32m━━━━━━━━━━━━━━━━━━━━\u001b[0m\u001b[37m\u001b[0m \u001b[1m25s\u001b[0m 2ms/step - accuracy: 0.9947 - loss: 0.0251 - val_accuracy: 0.9894 - val_loss: 0.0371\n",
      "\u001b[1m7357/7357\u001b[0m \u001b[32m━━━━━━━━━━━━━━━━━━━━\u001b[0m\u001b[37m\u001b[0m \u001b[1m6s\u001b[0m 839us/step\n",
      "Deep Neural Network (DNN)\n",
      "Training Time:  243.5546145439148\n",
      "Accuracy: 0.9950895436164067\n",
      "Classification Report:\n",
      "               precision    recall  f1-score   support\n",
      "\n",
      "           0       1.00      0.99      0.99     95470\n",
      "           1       0.99      1.00      1.00    139946\n",
      "\n",
      "    accuracy                           1.00    235416\n",
      "   macro avg       1.00      0.99      0.99    235416\n",
      "weighted avg       1.00      1.00      1.00    235416\n",
      "\n"
     ]
    }
   ],
   "source": [
    "start_time = time.time()\n",
    "\n",
    "model_dnn = Sequential([\n",
    "    Dense(128, activation='relu', input_shape=(X_train.shape[1],)),\n",
    "    Dropout(0.3),\n",
    "    Dense(64, activation='relu'),\n",
    "    Dropout(0.3),\n",
    "    Dense(1, activation='sigmoid') \n",
    "])\n",
    "\n",
    "model_dnn.compile(optimizer='adam', loss='binary_crossentropy', metrics=['accuracy'])\n",
    "\n",
    "model_dnn.fit(X_train, y_train, epochs=10, batch_size=64, validation_split=0.2, verbose=1)\n",
    "training_time_dp = time.time() - start_time\n",
    "\n",
    "y_pred_dnn = (model_dnn.predict(X_test) > 0.5).astype(int)\n",
    "\n",
    "print(\"Deep Neural Network (DNN)\")\n",
    "print(\"Training Time: \", training_time_dp)\n",
    "print(\"Accuracy:\", accuracy_score(y_test, y_pred_dnn))\n",
    "print(\"Classification Report:\\n\", classification_report(y_test, y_pred_dnn))"
   ]
  },
  {
   "cell_type": "code",
   "execution_count": 50,
   "metadata": {},
   "outputs": [
    {
     "name": "stdout",
     "output_type": "stream",
     "text": [
      "Epoch 1/10\n"
     ]
    },
    {
     "name": "stderr",
     "output_type": "stream",
     "text": [
      "c:\\Users\\pc\\AppData\\Local\\Programs\\Python\\Python312\\Lib\\site-packages\\keras\\src\\layers\\convolutional\\base_conv.py:107: UserWarning: Do not pass an `input_shape`/`input_dim` argument to a layer. When using Sequential models, prefer using an `Input(shape)` object as the first layer in the model instead.\n",
      "  super().__init__(activity_regularizer=activity_regularizer, **kwargs)\n"
     ]
    },
    {
     "name": "stdout",
     "output_type": "stream",
     "text": [
      "\u001b[1m13983/13983\u001b[0m \u001b[32m━━━━━━━━━━━━━━━━━━━━\u001b[0m\u001b[37m\u001b[0m \u001b[1m69s\u001b[0m 5ms/step - accuracy: 0.9716 - loss: 0.0830 - val_accuracy: 0.9838 - val_loss: 0.0648\n",
      "Epoch 2/10\n",
      "\u001b[1m13983/13983\u001b[0m \u001b[32m━━━━━━━━━━━━━━━━━━━━\u001b[0m\u001b[37m\u001b[0m \u001b[1m64s\u001b[0m 5ms/step - accuracy: 0.9919 - loss: 0.0387 - val_accuracy: 0.9865 - val_loss: 0.0594\n",
      "Epoch 3/10\n",
      "\u001b[1m13983/13983\u001b[0m \u001b[32m━━━━━━━━━━━━━━━━━━━━\u001b[0m\u001b[37m\u001b[0m \u001b[1m65s\u001b[0m 5ms/step - accuracy: 0.9926 - loss: 0.0365 - val_accuracy: 0.9865 - val_loss: 0.0530\n",
      "Epoch 4/10\n",
      "\u001b[1m13983/13983\u001b[0m \u001b[32m━━━━━━━━━━━━━━━━━━━━\u001b[0m\u001b[37m\u001b[0m \u001b[1m64s\u001b[0m 5ms/step - accuracy: 0.9932 - loss: 0.0332 - val_accuracy: 0.9855 - val_loss: 0.0542\n",
      "Epoch 5/10\n",
      "\u001b[1m13983/13983\u001b[0m \u001b[32m━━━━━━━━━━━━━━━━━━━━\u001b[0m\u001b[37m\u001b[0m \u001b[1m64s\u001b[0m 5ms/step - accuracy: 0.9932 - loss: 0.0324 - val_accuracy: 0.9860 - val_loss: 0.0528\n",
      "Epoch 6/10\n",
      "\u001b[1m13983/13983\u001b[0m \u001b[32m━━━━━━━━━━━━━━━━━━━━\u001b[0m\u001b[37m\u001b[0m \u001b[1m64s\u001b[0m 5ms/step - accuracy: 0.9935 - loss: 0.0310 - val_accuracy: 0.9866 - val_loss: 0.0476\n",
      "Epoch 7/10\n",
      "\u001b[1m13983/13983\u001b[0m \u001b[32m━━━━━━━━━━━━━━━━━━━━\u001b[0m\u001b[37m\u001b[0m \u001b[1m64s\u001b[0m 5ms/step - accuracy: 0.9935 - loss: 0.0298 - val_accuracy: 0.9866 - val_loss: 0.0459\n",
      "Epoch 8/10\n",
      "\u001b[1m13983/13983\u001b[0m \u001b[32m━━━━━━━━━━━━━━━━━━━━\u001b[0m\u001b[37m\u001b[0m \u001b[1m66s\u001b[0m 5ms/step - accuracy: 0.9935 - loss: 0.0294 - val_accuracy: 0.9874 - val_loss: 0.0476\n",
      "Epoch 9/10\n",
      "\u001b[1m13983/13983\u001b[0m \u001b[32m━━━━━━━━━━━━━━━━━━━━\u001b[0m\u001b[37m\u001b[0m \u001b[1m66s\u001b[0m 5ms/step - accuracy: 0.9939 - loss: 0.0283 - val_accuracy: 0.9883 - val_loss: 0.0443\n",
      "Epoch 10/10\n",
      "\u001b[1m13983/13983\u001b[0m \u001b[32m━━━━━━━━━━━━━━━━━━━━\u001b[0m\u001b[37m\u001b[0m \u001b[1m68s\u001b[0m 5ms/step - accuracy: 0.9944 - loss: 0.0264 - val_accuracy: 0.9882 - val_loss: 0.0451\n",
      "\u001b[1m7357/7357\u001b[0m \u001b[32m━━━━━━━━━━━━━━━━━━━━\u001b[0m\u001b[37m\u001b[0m \u001b[1m14s\u001b[0m 2ms/step\n",
      "CNN-LSTM\n",
      "Training Time:  654.2906992435455\n",
      "Accuracy: 0.9943121962823257\n",
      "Classification Report:\n",
      "               precision    recall  f1-score   support\n",
      "\n",
      "           0       1.00      0.99      0.99     95470\n",
      "           1       0.99      1.00      1.00    139946\n",
      "\n",
      "    accuracy                           0.99    235416\n",
      "   macro avg       1.00      0.99      0.99    235416\n",
      "weighted avg       0.99      0.99      0.99    235416\n",
      "\n"
     ]
    }
   ],
   "source": [
    "X_train_reshaped = np.expand_dims(X_train, axis=-1) \n",
    "X_test_reshaped = np.expand_dims(X_test, axis=-1)\n",
    "start_time = time.time()\n",
    "\n",
    "model_cnn_lstm = Sequential([\n",
    "    Conv1D(64, kernel_size=3, activation='relu', input_shape=(X_train_reshaped.shape[1], 1)),\n",
    "    MaxPooling1D(pool_size=2),\n",
    "    LSTM(50, return_sequences=False), \n",
    "    Dropout(0.3),\n",
    "    Dense(1, activation='sigmoid') \n",
    "])\n",
    "\n",
    "model_cnn_lstm.compile(optimizer='adam', loss='binary_crossentropy', metrics=['accuracy'])\n",
    "\n",
    "model_cnn_lstm.fit(X_train_reshaped, y_train, epochs=10, batch_size=64, validation_split=0.2, verbose=1)\n",
    "training_time_cnn = time.time() - start_time\n",
    "\n",
    "y_pred_cnn_lstm = (model_cnn_lstm.predict(X_test_reshaped) > 0.5).astype(int)\n",
    "\n",
    "print(\"CNN-LSTM\")\n",
    "print(\"Training Time: \", training_time_cnn)\n",
    "print(\"Accuracy:\", accuracy_score(y_test, y_pred_cnn_lstm))\n",
    "print(\"Classification Report:\\n\", classification_report(y_test, y_pred_cnn_lstm))\n"
   ]
  },
  {
   "cell_type": "code",
   "execution_count": 8,
   "metadata": {},
   "outputs": [],
   "source": [
    "#Pearson Correlation"
   ]
  },
  {
   "cell_type": "code",
   "execution_count": 9,
   "metadata": {},
   "outputs": [
    {
     "name": "stdout",
     "output_type": "stream",
     "text": [
      "                     ts           uid  id.orig_h  id.orig_p  id.resp_h  id.resp_p     proto   service  duration  orig_bytes  resp_bytes  conn_state  local_orig  local_resp  missed_bytes   history  orig_pkts  orig_ip_bytes  resp_pkts  resp_ip_bytes\n",
      "ts             1.000000  8.502598e-04  -0.009316  -0.051294  -0.065670  -0.102389 -0.079037  0.118977  0.066037    0.194245    0.214329    0.129080         NaN         NaN      0.035084  0.082343   0.072820   1.229848e-01   0.043680       0.062469\n",
      "uid            0.000850  1.000000e+00   0.001599  -0.000223  -0.000495  -0.001094 -0.000515 -0.000504  0.000352    0.000378    0.000820    0.000434         NaN         NaN      0.000659 -0.000922   0.000336   8.884884e-07   0.000083      -0.000120\n",
      "id.orig_h     -0.009316  1.599161e-03   1.000000  -0.051597  -0.003472  -0.021491 -0.077752 -0.001261 -0.016791   -0.001741   -0.002947   -0.166978         NaN         NaN     -0.000072 -0.027878  -0.011711  -2.289119e-02  -0.001831      -0.002000\n",
      "id.orig_p     -0.051294 -2.228757e-04  -0.051597   1.000000  -0.001482  -0.091065 -0.138077  0.018053  0.105747   -0.090859   -0.111640    0.121733         NaN         NaN      0.003709  0.180041   0.065468   4.181557e-02   0.020651       0.022424\n",
      "id.resp_h     -0.065670 -4.953876e-04  -0.003472  -0.001482   1.000000   0.049448  0.066013 -0.010203 -0.032304   -0.009767   -0.010486    0.016716         NaN         NaN      0.000782 -0.044558  -0.013834  -1.136517e-02  -0.001361      -0.007208\n",
      "id.resp_p     -0.102389 -1.094005e-03  -0.021491  -0.091065   0.049448   1.000000  0.609200 -0.059180 -0.248393   -0.108063   -0.095778    0.030355         NaN         NaN     -0.001562 -0.401024  -0.164895  -1.422705e-01  -0.072975      -0.068823\n",
      "proto         -0.079037 -5.153983e-04  -0.077752  -0.138077   0.066013   0.609200  1.000000 -0.053121 -0.372624    0.004812    0.059675    0.280898         NaN         NaN     -0.001383 -0.558059  -0.217151  -1.702126e-01  -0.059823      -0.060062\n",
      "service        0.118977 -5.037410e-04  -0.001261   0.018053  -0.010203  -0.059180 -0.053121  1.000000  0.140356    0.569136    0.290495    0.314981         NaN         NaN      0.015672  0.383456   0.469558   6.931104e-01   0.522968       0.792601\n",
      "duration       0.066037  3.515981e-04  -0.016791   0.105747  -0.032304  -0.248393 -0.372624  0.140356  1.000000    0.127647    0.061796    0.075637         NaN         NaN     -0.000336  0.329399   0.557293   4.196534e-01   0.148822       0.165072\n",
      "orig_bytes     0.194245  3.783065e-04  -0.001741  -0.090859  -0.009767  -0.108063  0.004812  0.569136  0.127647    1.000000    0.844099    0.465163         NaN         NaN      0.012002  0.368193   0.606817   6.844086e-01   0.711421       0.691684\n",
      "resp_bytes     0.214329  8.202004e-04  -0.002947  -0.111640  -0.010486  -0.095778  0.059675  0.290495  0.061796    0.844099    1.000000    0.461101         NaN         NaN      0.011390  0.224574   0.380952   4.051859e-01   0.483249       0.426940\n",
      "conn_state     0.129080  4.344128e-04  -0.166978   0.121733   0.016716   0.030355  0.280898  0.314981  0.075637    0.465163    0.461101    1.000000         NaN         NaN      0.008241  0.059820   0.296334   3.170156e-01   0.319119       0.332412\n",
      "local_orig          NaN           NaN        NaN        NaN        NaN        NaN       NaN       NaN       NaN         NaN         NaN         NaN         NaN         NaN           NaN       NaN        NaN            NaN        NaN            NaN\n",
      "local_resp          NaN           NaN        NaN        NaN        NaN        NaN       NaN       NaN       NaN         NaN         NaN         NaN         NaN         NaN           NaN       NaN        NaN            NaN        NaN            NaN\n",
      "missed_bytes   0.035084  6.591021e-04  -0.000072   0.003709   0.000782  -0.001562 -0.001383  0.015672 -0.000336    0.012002    0.011390    0.008241         NaN         NaN      1.000000  0.002285   0.006037   2.939724e-02   0.006700       0.005223\n",
      "history        0.082343 -9.217188e-04  -0.027878   0.180041  -0.044558  -0.401024 -0.558059  0.383456  0.329399    0.368193    0.224574    0.059820         NaN         NaN      0.002285  1.000000   0.535843   5.260888e-01   0.514402       0.477461\n",
      "orig_pkts      0.072820  3.361555e-04  -0.011711   0.065468  -0.013834  -0.164895 -0.217151  0.469558  0.557293    0.606817    0.380952    0.296334         NaN         NaN      0.006037  0.535843   1.000000   9.133077e-01   0.867640       0.750521\n",
      "orig_ip_bytes  0.122985  8.884884e-07  -0.022891   0.041816  -0.011365  -0.142271 -0.170213  0.693110  0.419653    0.684409    0.405186    0.317016         NaN         NaN      0.029397  0.526089   0.913308   1.000000e+00   0.844018       0.892825\n",
      "resp_pkts      0.043680  8.336743e-05  -0.001831   0.020651  -0.001361  -0.072975 -0.059823  0.522968  0.148822    0.711421    0.483249    0.319119         NaN         NaN      0.006700  0.514402   0.867640   8.440184e-01   1.000000       0.845233\n",
      "resp_ip_bytes  0.062469 -1.202662e-04  -0.002000   0.022424  -0.007208  -0.068823 -0.060062  0.792601  0.165072    0.691684    0.426940    0.332412         NaN         NaN      0.005223  0.477461   0.750521   8.928251e-01   0.845233       1.000000\n"
     ]
    }
   ],
   "source": [
    "import pandas as pd\n",
    "import numpy as np\n",
    "from sklearn.ensemble import RandomForestClassifier\n",
    "from sklearn.model_selection import train_test_split\n",
    "from sklearn.metrics import accuracy_score\n",
    "\n",
    "X_scaled_df = pd.DataFrame(X_scaled, columns=X.columns)\n",
    "correlation_matrix = X_scaled_df.corr(method='pearson')\n",
    "print(correlation_matrix)"
   ]
  },
  {
   "cell_type": "code",
   "execution_count": 10,
   "metadata": {},
   "outputs": [
    {
     "name": "stdout",
     "output_type": "stream",
     "text": [
      "Highly correlated pairs of features: [('orig_pkts', 'orig_ip_bytes')]\n"
     ]
    }
   ],
   "source": [
    "threshold = 0.9\n",
    "high_corr_pairs = np.where(np.abs(correlation_matrix) > threshold)\n",
    "high_corr_pairs = [(correlation_matrix.index[i], correlation_matrix.columns[j]) \n",
    "                   for i, j in zip(*high_corr_pairs) if i != j and i < j]\n",
    "\n",
    "print(\"Highly correlated pairs of features:\", high_corr_pairs)"
   ]
  },
  {
   "cell_type": "code",
   "execution_count": 11,
   "metadata": {},
   "outputs": [],
   "source": [
    "features_to_drop = set()\n",
    "for feature_a, feature_b in high_corr_pairs:\n",
    "    features_to_drop.add(feature_b)  # Arbitrarily drop one of the two\n",
    "\n",
    "X_filtered = X_scaled_df.drop(columns=list(features_to_drop))\n",
    "\n",
    "X_train, X_test, y_train, y_test = train_test_split(X_filtered, y, test_size=0.2, random_state=42)"
   ]
  },
  {
   "cell_type": "code",
   "execution_count": null,
   "metadata": {},
   "outputs": [
    {
     "name": "stdout",
     "output_type": "stream",
     "text": [
      "Model accuracy after filtering highly correlated features: 0.9998853094097258\n"
     ]
    }
   ],
   "source": [
    "model = RandomForestClassifier(random_state=42)\n",
    "model.fit(X_train, y_train)\n",
    "\n",
    "y_pred = model.predict(X_test)\n",
    "accuracy = accuracy_score(y_test, y_pred)\n",
    "print(\"Model accuracy after filtering highly correlated features:\", accuracy)"
   ]
  },
  {
   "cell_type": "code",
   "execution_count": 19,
   "metadata": {},
   "outputs": [
    {
     "name": "stdout",
     "output_type": "stream",
     "text": [
      "Logistic Regression Accuracy: 0.9480664016039692\n"
     ]
    }
   ],
   "source": [
    "log_reg = LogisticRegression()\n",
    "log_reg.fit(X_train, y_train)\n",
    "\n",
    "y_pred = log_reg.predict(X_test)\n",
    "print(\"Logistic Regression Accuracy:\", accuracy_score(y_test, y_pred))"
   ]
  },
  {
   "cell_type": "code",
   "execution_count": 20,
   "metadata": {},
   "outputs": [
    {
     "name": "stdout",
     "output_type": "stream",
     "text": [
      "SGD Classifier Accuracy: 0.9599984707921296\n"
     ]
    }
   ],
   "source": [
    "sgd = SGDClassifier(max_iter=1000, tol=1e-3, random_state=42)\n",
    "sgd.fit(X_train, y_train)\n",
    "\n",
    "y_pred = sgd.predict(X_test)\n",
    "print(\"SGD Classifier Accuracy:\", accuracy_score(y_test, y_pred))"
   ]
  },
  {
   "cell_type": "code",
   "execution_count": 21,
   "metadata": {},
   "outputs": [
    {
     "name": "stderr",
     "output_type": "stream",
     "text": [
      "c:\\Users\\pc\\AppData\\Local\\Programs\\Python\\Python312\\Lib\\site-packages\\sklearn\\ensemble\\_weight_boosting.py:527: FutureWarning: The SAMME.R algorithm (the default) is deprecated and will be removed in 1.6. Use the SAMME algorithm to circumvent this warning.\n",
      "  warnings.warn(\n"
     ]
    },
    {
     "name": "stdout",
     "output_type": "stream",
     "text": [
      "AdaBoost Accuracy: 0.9956375097699391\n"
     ]
    }
   ],
   "source": [
    "adaboost = AdaBoostClassifier(n_estimators=50, random_state=42)\n",
    "adaboost.fit(X_train, y_train)\n",
    "\n",
    "y_pred = adaboost.predict(X_test)\n",
    "print(\"AdaBoost Accuracy:\", accuracy_score(y_test, y_pred))"
   ]
  },
  {
   "cell_type": "code",
   "execution_count": 22,
   "metadata": {},
   "outputs": [
    {
     "name": "stdout",
     "output_type": "stream",
     "text": [
      "Gradient Boosting Accuracy: 0.9998810616100859\n"
     ]
    }
   ],
   "source": [
    "gb = GradientBoostingClassifier(n_estimators=100, learning_rate=0.1, random_state=42)\n",
    "gb.fit(X_train, y_train)\n",
    "\n",
    "y_pred = gb.predict(X_test)\n",
    "print(\"Gradient Boosting Accuracy:\", accuracy_score(y_test, y_pred))"
   ]
  },
  {
   "cell_type": "code",
   "execution_count": 15,
   "metadata": {},
   "outputs": [
    {
     "name": "stdout",
     "output_type": "stream",
     "text": [
      "SVM Accuracy: 0.9600494443878071\n"
     ]
    }
   ],
   "source": [
    "X_train_sample = X_train[:10000]\n",
    "y_train_sample = y_train[:10000]\n",
    "\n",
    "svm = SVC(kernel='linear', C=1, random_state=42)\n",
    "svm.fit(X_train_sample, y_train_sample)\n",
    "\n",
    "y_pred = svm.predict(X_test)\n",
    "print(\"SVM Accuracy:\", accuracy_score(y_test, y_pred))"
   ]
  },
  {
   "cell_type": "code",
   "execution_count": 12,
   "metadata": {},
   "outputs": [
    {
     "name": "stdout",
     "output_type": "stream",
     "text": [
      "Neural Network Accuracy: 0.9960750331328372\n"
     ]
    }
   ],
   "source": [
    "mlp = MLPClassifier(hidden_layer_sizes=(100,), max_iter=500, random_state=42)\n",
    "mlp.fit(X_train, y_train)\n",
    "\n",
    "y_pred = mlp.predict(X_test)\n",
    "print(\"Neural Network Accuracy:\", accuracy_score(y_test, y_pred))"
   ]
  },
  {
   "cell_type": "code",
   "execution_count": 13,
   "metadata": {},
   "outputs": [
    {
     "name": "stderr",
     "output_type": "stream",
     "text": [
      "c:\\Users\\pc\\AppData\\Local\\Programs\\Python\\Python312\\Lib\\site-packages\\keras\\src\\layers\\core\\dense.py:87: UserWarning: Do not pass an `input_shape`/`input_dim` argument to a layer. When using Sequential models, prefer using an `Input(shape)` object as the first layer in the model instead.\n",
      "  super().__init__(activity_regularizer=activity_regularizer, **kwargs)\n"
     ]
    },
    {
     "name": "stdout",
     "output_type": "stream",
     "text": [
      "Epoch 1/20\n",
      "\u001b[1m23542/23542\u001b[0m \u001b[32m━━━━━━━━━━━━━━━━━━━━\u001b[0m\u001b[37m\u001b[0m \u001b[1m36s\u001b[0m 1ms/step - accuracy: 0.9885 - loss: 0.0480 - val_accuracy: 0.9936 - val_loss: 0.0262\n",
      "Epoch 2/20\n",
      "\u001b[1m23542/23542\u001b[0m \u001b[32m━━━━━━━━━━━━━━━━━━━━\u001b[0m\u001b[37m\u001b[0m \u001b[1m30s\u001b[0m 1ms/step - accuracy: 0.9944 - loss: 0.0244 - val_accuracy: 0.9957 - val_loss: 0.0220\n",
      "Epoch 3/20\n",
      "\u001b[1m23542/23542\u001b[0m \u001b[32m━━━━━━━━━━━━━━━━━━━━\u001b[0m\u001b[37m\u001b[0m \u001b[1m31s\u001b[0m 1ms/step - accuracy: 0.9956 - loss: 0.0224 - val_accuracy: 0.9961 - val_loss: 0.0227\n",
      "Epoch 4/20\n",
      "\u001b[1m23542/23542\u001b[0m \u001b[32m━━━━━━━━━━━━━━━━━━━━\u001b[0m\u001b[37m\u001b[0m \u001b[1m30s\u001b[0m 1ms/step - accuracy: 0.9960 - loss: 0.0211 - val_accuracy: 0.9965 - val_loss: 0.0234\n",
      "Epoch 5/20\n",
      "\u001b[1m23542/23542\u001b[0m \u001b[32m━━━━━━━━━━━━━━━━━━━━\u001b[0m\u001b[37m\u001b[0m \u001b[1m30s\u001b[0m 1ms/step - accuracy: 0.9964 - loss: 0.0197 - val_accuracy: 0.9966 - val_loss: 0.0180\n",
      "Epoch 6/20\n",
      "\u001b[1m23542/23542\u001b[0m \u001b[32m━━━━━━━━━━━━━━━━━━━━\u001b[0m\u001b[37m\u001b[0m \u001b[1m30s\u001b[0m 1ms/step - accuracy: 0.9965 - loss: 0.0192 - val_accuracy: 0.9967 - val_loss: 0.0177\n",
      "Epoch 7/20\n",
      "\u001b[1m23542/23542\u001b[0m \u001b[32m━━━━━━━━━━━━━━━━━━━━\u001b[0m\u001b[37m\u001b[0m \u001b[1m33s\u001b[0m 1ms/step - accuracy: 0.9965 - loss: 0.0195 - val_accuracy: 0.9967 - val_loss: 0.0191\n",
      "Epoch 8/20\n",
      "\u001b[1m23542/23542\u001b[0m \u001b[32m━━━━━━━━━━━━━━━━━━━━\u001b[0m\u001b[37m\u001b[0m \u001b[1m31s\u001b[0m 1ms/step - accuracy: 0.9967 - loss: 0.0184 - val_accuracy: 0.9967 - val_loss: 0.0181\n",
      "Epoch 9/20\n",
      "\u001b[1m23542/23542\u001b[0m \u001b[32m━━━━━━━━━━━━━━━━━━━━\u001b[0m\u001b[37m\u001b[0m \u001b[1m31s\u001b[0m 1ms/step - accuracy: 0.9965 - loss: 0.0191 - val_accuracy: 0.9969 - val_loss: 0.0186\n",
      "Epoch 10/20\n",
      "\u001b[1m23542/23542\u001b[0m \u001b[32m━━━━━━━━━━━━━━━━━━━━\u001b[0m\u001b[37m\u001b[0m \u001b[1m30s\u001b[0m 1ms/step - accuracy: 0.9967 - loss: 0.0184 - val_accuracy: 0.9968 - val_loss: 0.0167\n",
      "Epoch 11/20\n",
      "\u001b[1m23542/23542\u001b[0m \u001b[32m━━━━━━━━━━━━━━━━━━━━\u001b[0m\u001b[37m\u001b[0m \u001b[1m31s\u001b[0m 1ms/step - accuracy: 0.9966 - loss: 0.0178 - val_accuracy: 0.9968 - val_loss: 0.0181\n",
      "Epoch 12/20\n",
      "\u001b[1m23542/23542\u001b[0m \u001b[32m━━━━━━━━━━━━━━━━━━━━\u001b[0m\u001b[37m\u001b[0m \u001b[1m32s\u001b[0m 1ms/step - accuracy: 0.9967 - loss: 0.0176 - val_accuracy: 0.9970 - val_loss: 0.0194\n",
      "Epoch 13/20\n",
      "\u001b[1m23542/23542\u001b[0m \u001b[32m━━━━━━━━━━━━━━━━━━━━\u001b[0m\u001b[37m\u001b[0m \u001b[1m33s\u001b[0m 1ms/step - accuracy: 0.9967 - loss: 0.0172 - val_accuracy: 0.9970 - val_loss: 0.0166\n",
      "Epoch 14/20\n",
      "\u001b[1m23542/23542\u001b[0m \u001b[32m━━━━━━━━━━━━━━━━━━━━\u001b[0m\u001b[37m\u001b[0m \u001b[1m34s\u001b[0m 1ms/step - accuracy: 0.9969 - loss: 0.0167 - val_accuracy: 0.9971 - val_loss: 0.0160\n",
      "Epoch 15/20\n",
      "\u001b[1m23542/23542\u001b[0m \u001b[32m━━━━━━━━━━━━━━━━━━━━\u001b[0m\u001b[37m\u001b[0m \u001b[1m33s\u001b[0m 1ms/step - accuracy: 0.9971 - loss: 0.0170 - val_accuracy: 0.9973 - val_loss: 0.0155\n",
      "Epoch 16/20\n",
      "\u001b[1m23542/23542\u001b[0m \u001b[32m━━━━━━━━━━━━━━━━━━━━\u001b[0m\u001b[37m\u001b[0m \u001b[1m40s\u001b[0m 1ms/step - accuracy: 0.9969 - loss: 0.0162 - val_accuracy: 0.9972 - val_loss: 0.0148\n",
      "Epoch 17/20\n",
      "\u001b[1m23542/23542\u001b[0m \u001b[32m━━━━━━━━━━━━━━━━━━━━\u001b[0m\u001b[37m\u001b[0m \u001b[1m32s\u001b[0m 1ms/step - accuracy: 0.9971 - loss: 0.0157 - val_accuracy: 0.9974 - val_loss: 0.0156\n",
      "Epoch 18/20\n",
      "\u001b[1m23542/23542\u001b[0m \u001b[32m━━━━━━━━━━━━━━━━━━━━\u001b[0m\u001b[37m\u001b[0m \u001b[1m30s\u001b[0m 1ms/step - accuracy: 0.9972 - loss: 0.0157 - val_accuracy: 0.9973 - val_loss: 0.0167\n",
      "Epoch 19/20\n",
      "\u001b[1m23542/23542\u001b[0m \u001b[32m━━━━━━━━━━━━━━━━━━━━\u001b[0m\u001b[37m\u001b[0m \u001b[1m31s\u001b[0m 1ms/step - accuracy: 0.9973 - loss: 0.0153 - val_accuracy: 0.9973 - val_loss: 0.0191\n",
      "Epoch 20/20\n",
      "\u001b[1m23542/23542\u001b[0m \u001b[32m━━━━━━━━━━━━━━━━━━━━\u001b[0m\u001b[37m\u001b[0m \u001b[1m34s\u001b[0m 1ms/step - accuracy: 0.9973 - loss: 0.0156 - val_accuracy: 0.9973 - val_loss: 0.0158\n",
      "\u001b[1m7357/7357\u001b[0m \u001b[32m━━━━━━━━━━━━━━━━━━━━\u001b[0m\u001b[37m\u001b[0m \u001b[1m7s\u001b[0m 894us/step - accuracy: 0.9974 - loss: 0.0148\n",
      "DNN Accuracy: 0.9973493814468384\n"
     ]
    }
   ],
   "source": [
    "dnn = Sequential([\n",
    "    Dense(128, activation='relu', input_shape=(X_train.shape[1],)),\n",
    "    Dense(64, activation='relu'),\n",
    "    Dense(1, activation='sigmoid')  # Use 'softmax' for multi-class classification\n",
    "])\n",
    "\n",
    "# Compile the model\n",
    "dnn.compile(optimizer='adam', loss='binary_crossentropy', metrics=['accuracy'])\n",
    "\n",
    "# Train the model\n",
    "dnn.fit(X_train, y_train, epochs=20, batch_size=32, validation_split=0.2, verbose=1)\n",
    "\n",
    "# Evaluate\n",
    "dnn_loss, dnn_accuracy = dnn.evaluate(X_test, y_test)\n",
    "print(\"DNN Accuracy:\", dnn_accuracy)"
   ]
  },
  {
   "cell_type": "code",
   "execution_count": 14,
   "metadata": {},
   "outputs": [
    {
     "name": "stderr",
     "output_type": "stream",
     "text": [
      "c:\\Users\\pc\\AppData\\Local\\Programs\\Python\\Python312\\Lib\\site-packages\\keras\\src\\layers\\convolutional\\base_conv.py:107: UserWarning: Do not pass an `input_shape`/`input_dim` argument to a layer. When using Sequential models, prefer using an `Input(shape)` object as the first layer in the model instead.\n",
      "  super().__init__(activity_regularizer=activity_regularizer, **kwargs)\n"
     ]
    },
    {
     "name": "stdout",
     "output_type": "stream",
     "text": [
      "Epoch 1/20\n",
      "\u001b[1m23542/23542\u001b[0m \u001b[32m━━━━━━━━━━━━━━━━━━━━\u001b[0m\u001b[37m\u001b[0m \u001b[1m123s\u001b[0m 5ms/step - accuracy: 0.9803 - loss: 0.0650 - val_accuracy: 0.9938 - val_loss: 0.0324\n",
      "Epoch 2/20\n",
      "\u001b[1m23542/23542\u001b[0m \u001b[32m━━━━━━━━━━━━━━━━━━━━\u001b[0m\u001b[37m\u001b[0m \u001b[1m120s\u001b[0m 5ms/step - accuracy: 0.9938 - loss: 0.0326 - val_accuracy: 0.9924 - val_loss: 0.0382\n",
      "Epoch 3/20\n",
      "\u001b[1m23542/23542\u001b[0m \u001b[32m━━━━━━━━━━━━━━━━━━━━\u001b[0m\u001b[37m\u001b[0m \u001b[1m121s\u001b[0m 5ms/step - accuracy: 0.9938 - loss: 0.0314 - val_accuracy: 0.9924 - val_loss: 0.0303\n",
      "Epoch 4/20\n",
      "\u001b[1m23542/23542\u001b[0m \u001b[32m━━━━━━━━━━━━━━━━━━━━\u001b[0m\u001b[37m\u001b[0m \u001b[1m119s\u001b[0m 5ms/step - accuracy: 0.9944 - loss: 0.0266 - val_accuracy: 0.9961 - val_loss: 0.0242\n",
      "Epoch 5/20\n",
      "\u001b[1m23542/23542\u001b[0m \u001b[32m━━━━━━━━━━━━━━━━━━━━\u001b[0m\u001b[37m\u001b[0m \u001b[1m115s\u001b[0m 5ms/step - accuracy: 0.9957 - loss: 0.0229 - val_accuracy: 0.9963 - val_loss: 0.0206\n",
      "Epoch 6/20\n",
      "\u001b[1m23542/23542\u001b[0m \u001b[32m━━━━━━━━━━━━━━━━━━━━\u001b[0m\u001b[37m\u001b[0m \u001b[1m115s\u001b[0m 5ms/step - accuracy: 0.9962 - loss: 0.0204 - val_accuracy: 0.9964 - val_loss: 0.0200\n",
      "Epoch 7/20\n",
      "\u001b[1m23542/23542\u001b[0m \u001b[32m━━━━━━━━━━━━━━━━━━━━\u001b[0m\u001b[37m\u001b[0m \u001b[1m112s\u001b[0m 5ms/step - accuracy: 0.9964 - loss: 0.0195 - val_accuracy: 0.9963 - val_loss: 0.0192\n",
      "Epoch 8/20\n",
      "\u001b[1m23542/23542\u001b[0m \u001b[32m━━━━━━━━━━━━━━━━━━━━\u001b[0m\u001b[37m\u001b[0m \u001b[1m110s\u001b[0m 5ms/step - accuracy: 0.9968 - loss: 0.0163 - val_accuracy: 0.9975 - val_loss: 0.0140\n",
      "Epoch 9/20\n",
      "\u001b[1m23542/23542\u001b[0m \u001b[32m━━━━━━━━━━━━━━━━━━━━\u001b[0m\u001b[37m\u001b[0m \u001b[1m114s\u001b[0m 5ms/step - accuracy: 0.9968 - loss: 0.0168 - val_accuracy: 0.9977 - val_loss: 0.0134\n",
      "Epoch 10/20\n",
      "\u001b[1m23542/23542\u001b[0m \u001b[32m━━━━━━━━━━━━━━━━━━━━\u001b[0m\u001b[37m\u001b[0m \u001b[1m115s\u001b[0m 5ms/step - accuracy: 0.9972 - loss: 0.0159 - val_accuracy: 0.9979 - val_loss: 0.0112\n",
      "Epoch 11/20\n",
      "\u001b[1m23542/23542\u001b[0m \u001b[32m━━━━━━━━━━━━━━━━━━━━\u001b[0m\u001b[37m\u001b[0m \u001b[1m121s\u001b[0m 5ms/step - accuracy: 0.9974 - loss: 0.0148 - val_accuracy: 0.9959 - val_loss: 0.0184\n",
      "Epoch 12/20\n",
      "\u001b[1m23542/23542\u001b[0m \u001b[32m━━━━━━━━━━━━━━━━━━━━\u001b[0m\u001b[37m\u001b[0m \u001b[1m135s\u001b[0m 5ms/step - accuracy: 0.9957 - loss: 0.0264 - val_accuracy: 0.9972 - val_loss: 0.0138\n",
      "Epoch 13/20\n",
      "\u001b[1m23542/23542\u001b[0m \u001b[32m━━━━━━━━━━━━━━━━━━━━\u001b[0m\u001b[37m\u001b[0m \u001b[1m115s\u001b[0m 5ms/step - accuracy: 0.9961 - loss: 0.0207 - val_accuracy: 0.9965 - val_loss: 0.0173\n",
      "Epoch 14/20\n",
      "\u001b[1m23542/23542\u001b[0m \u001b[32m━━━━━━━━━━━━━━━━━━━━\u001b[0m\u001b[37m\u001b[0m \u001b[1m119s\u001b[0m 5ms/step - accuracy: 0.9968 - loss: 0.0191 - val_accuracy: 0.9976 - val_loss: 0.0126\n",
      "Epoch 15/20\n",
      "\u001b[1m23542/23542\u001b[0m \u001b[32m━━━━━━━━━━━━━━━━━━━━\u001b[0m\u001b[37m\u001b[0m \u001b[1m117s\u001b[0m 5ms/step - accuracy: 0.9965 - loss: 0.0201 - val_accuracy: 0.9976 - val_loss: 0.0149\n",
      "Epoch 16/20\n",
      "\u001b[1m23542/23542\u001b[0m \u001b[32m━━━━━━━━━━━━━━━━━━━━\u001b[0m\u001b[37m\u001b[0m \u001b[1m119s\u001b[0m 5ms/step - accuracy: 0.9970 - loss: 0.0197 - val_accuracy: 0.9978 - val_loss: 0.0111\n",
      "Epoch 17/20\n",
      "\u001b[1m23542/23542\u001b[0m \u001b[32m━━━━━━━━━━━━━━━━━━━━\u001b[0m\u001b[37m\u001b[0m \u001b[1m118s\u001b[0m 5ms/step - accuracy: 0.9974 - loss: 0.0141 - val_accuracy: 0.9981 - val_loss: 0.0116\n",
      "Epoch 18/20\n",
      "\u001b[1m23542/23542\u001b[0m \u001b[32m━━━━━━━━━━━━━━━━━━━━\u001b[0m\u001b[37m\u001b[0m \u001b[1m117s\u001b[0m 5ms/step - accuracy: 0.9977 - loss: 0.0127 - val_accuracy: 0.9980 - val_loss: 0.0147\n",
      "Epoch 19/20\n",
      "\u001b[1m23542/23542\u001b[0m \u001b[32m━━━━━━━━━━━━━━━━━━━━\u001b[0m\u001b[37m\u001b[0m \u001b[1m116s\u001b[0m 5ms/step - accuracy: 0.9974 - loss: 0.0148 - val_accuracy: 0.9982 - val_loss: 0.0097\n",
      "Epoch 20/20\n",
      "\u001b[1m23542/23542\u001b[0m \u001b[32m━━━━━━━━━━━━━━━━━━━━\u001b[0m\u001b[37m\u001b[0m \u001b[1m116s\u001b[0m 5ms/step - accuracy: 0.9977 - loss: 0.0124 - val_accuracy: 0.9976 - val_loss: 0.0114\n",
      "\u001b[1m7357/7357\u001b[0m \u001b[32m━━━━━━━━━━━━━━━━━━━━\u001b[0m\u001b[37m\u001b[0m \u001b[1m14s\u001b[0m 2ms/step - accuracy: 0.9975 - loss: 0.0122\n",
      "CNN-LSTM Accuracy: 0.9975150227546692\n"
     ]
    }
   ],
   "source": [
    "from tensorflow.keras.layers import Flatten\n",
    "\n",
    "X_train_reshaped = X_train.values.reshape((X_train.shape[0], X_train.shape[1], 1))\n",
    "X_test_reshaped = X_test.values.reshape((X_test.shape[0], X_test.shape[1], 1))\n",
    "\n",
    "# Build CNN-LSTM Model\n",
    "cnn_lstm = Sequential([\n",
    "    Conv1D(filters=64, kernel_size=3, activation='relu', input_shape=(X_train_reshaped.shape[1], 1)),\n",
    "    MaxPooling1D(pool_size=2),\n",
    "    LSTM(50, activation='relu', return_sequences=True),\n",
    "    Flatten(),\n",
    "    Dense(1, activation='sigmoid')  # Use 'softmax' for multi-class classification\n",
    "])\n",
    "\n",
    "# Compile the model\n",
    "cnn_lstm.compile(optimizer='adam', loss='binary_crossentropy', metrics=['accuracy'])\n",
    "\n",
    "# Train the model\n",
    "cnn_lstm.fit(X_train_reshaped, y_train, epochs=20, batch_size=32, validation_split=0.2, verbose=1)\n",
    "\n",
    "# Evaluate\n",
    "cnn_lstm_loss, cnn_lstm_accuracy = cnn_lstm.evaluate(X_test_reshaped, y_test)\n",
    "print(\"CNN-LSTM Accuracy:\", cnn_lstm_accuracy)"
   ]
  }
 ],
 "metadata": {
  "kernelspec": {
   "display_name": "Python 3",
   "language": "python",
   "name": "python3"
  },
  "language_info": {
   "codemirror_mode": {
    "name": "ipython",
    "version": 3
   },
   "file_extension": ".py",
   "mimetype": "text/x-python",
   "name": "python",
   "nbconvert_exporter": "python",
   "pygments_lexer": "ipython3",
   "version": "3.12.4"
  }
 },
 "nbformat": 4,
 "nbformat_minor": 2
}
